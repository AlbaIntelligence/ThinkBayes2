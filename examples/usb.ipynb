{
 "cells": [
  {
   "cell_type": "markdown",
   "metadata": {},
   "source": [
    "# Flipping USB Connectors\n"
   ]
  },
  {
   "cell_type": "code",
   "execution_count": 1,
   "metadata": {},
   "outputs": [],
   "source": [
    "import numpy as np\n",
    "import pandas as pd"
   ]
  },
  {
   "cell_type": "markdown",
   "metadata": {},
   "source": [
    "*If you like this article, you might also like the second edition of [*Think Bayes*](https://greenteapress.com/wp/think-bayes/).*\n",
    "\n",
    "[Click here to run this article on Colab](https://colab.research.google.com/github/AllenDowney/ThinkBayes2/blob/master/examples/usb.ipynb)"
   ]
  },
  {
   "cell_type": "markdown",
   "metadata": {},
   "source": [
    "I would not be the first person to observe that it sometimes takes several tries to plug in a USB connector (specifically the rectangular [Type A connector](https://en.wikipedia.org/wiki/USB), which is not reversible).\n",
    "On Quora alone,\n",
    "[people](https://www.quora.com/Why-do-you-always-have-to-flip-a-USB-twice-when-trying-to-plug-it-in-Shouldn-t-it-have-gone-in-the-first-time-when-you-had-it-the-right-way)\n",
    "[have](https://www.quora.com/There-is-a-50-chance-of-plugging-in-a-USB-cable-the-right-way-on-the-first-try-Why-does-it-only-happen-20-of-the-time-when-I-do-it)\n",
    "[asked](https://www.quora.com/Why-doesnt-the-USB-go-in-the-first-time-but-does-after-youve-turn-it-a-few-times)\n",
    "[about](https://www.quora.com/People-that-can-plug-the-USB-in-on-their-first-try-How)\n",
    "[it](https://www.quora.com/Why-cant-we-plug-in-USB-devices-correctly-the-first-time) more than once.\n",
    "\n",
    "But I hope I am the first person to figure out the optimal strategy for plugging in a USB connector. Specifically, I have worked out how long you should try on the first side before flipping, and how long you should try on the second side before flipping again.\n",
    "\n",
    "Of course, my analysis is based on some modeling assumptions:\n",
    "\n",
    "1) Initially, the probability is 0.5 that the connector is in the right orientation.\n",
    "\n",
    "2) If it is, the time it takes to succeed follows an exponential distribution with rate parameter 1.1, which means that it takes 0.91 seconds on average.\n",
    "\n",
    "3) Flipping the connector takes 0.1 seconds.\n",
    "\n",
    "With that, we are ready to get started."
   ]
  },
  {
   "cell_type": "markdown",
   "metadata": {},
   "source": [
    "The first step is to figure out the probability that the connector is in the right orientation as a function of how long you have been trying.\n",
    "For that, we can use a Bayes table, which is a form of Bayes's Theorem I use in [Chapter 2 of *Think Bayes*](https://allendowney.github.io/ThinkBayes2/chap02.html#bayes-tables).\n",
    "\n",
    "The following function takes a sequence of hypotheses, prior probabilities, and likelihoods, and turns a pandas `DataFrame` that represents a Bayes table."
   ]
  },
  {
   "cell_type": "code",
   "execution_count": 2,
   "metadata": {},
   "outputs": [],
   "source": [
    "def bayes_table(hypos, prior, likelihood):\n",
    "    \"\"\"Make a table showing a Bayesian update.\"\"\"\n",
    "    table = pd.DataFrame(dict(prior=prior, likelihood=likelihood), index=hypos)\n",
    "    table['unnorm'] = table['prior'] * table['likelihood']\n",
    "    prob_data = table['unnorm'].sum()\n",
    "    table['posterior'] = table['unnorm'] / prob_data\n",
    "    return table"
   ]
  },
  {
   "cell_type": "markdown",
   "metadata": {},
   "source": [
    "Now suppose that the initial probability is 0.5 that the orientation of the connector is correct, and you have been trying for 0.9 second.\n",
    "What is the likelihood that you would have to try so long?\n",
    "\n",
    "* If you are on the wrong side, it is 100%.\n",
    "\n",
    "* If you are on the right side, it's given by the survival function (complementary CDF) of the exponential distribution, which is $\\exp(-\\lambda t)$, where $\\lambda$ is the rate parameter and $t$ is time.\n",
    "\n",
    "The following function computes this likelihood:"
   ]
  },
  {
   "cell_type": "code",
   "execution_count": 3,
   "metadata": {},
   "outputs": [],
   "source": [
    "def expo_sf(t, lam):\n",
    "    return np.exp(-lam * t)"
   ]
  },
  {
   "cell_type": "markdown",
   "metadata": {},
   "source": [
    "We can use this function to compute the likelihood of trying for 0.9 seconds or more, given $\\lambda=1.1$."
   ]
  },
  {
   "cell_type": "code",
   "execution_count": 4,
   "metadata": {},
   "outputs": [
    {
     "data": {
      "text/plain": [
       "0.37157669102204566"
      ]
     },
     "execution_count": 4,
     "metadata": {},
     "output_type": "execute_result"
    }
   ],
   "source": [
    "t = 0.9\n",
    "lam = 1.1\n",
    "\n",
    "expo_sf(t, lam)"
   ]
  },
  {
   "cell_type": "markdown",
   "metadata": {},
   "source": [
    "Now let's make a Bayes table with two hypotheses -- the connector is either the right way or the wrong way -- with equal prior probabilities."
   ]
  },
  {
   "cell_type": "code",
   "execution_count": 5,
   "metadata": {},
   "outputs": [],
   "source": [
    "hypos = ['Right way', 'Wrong way']\n",
    "prior = [1/2, 1/2]"
   ]
  },
  {
   "cell_type": "markdown",
   "metadata": {},
   "source": [
    "And here are the likelihoods of the data for each hypothesis:"
   ]
  },
  {
   "cell_type": "code",
   "execution_count": 6,
   "metadata": {},
   "outputs": [],
   "source": [
    "likelihood = [expo_sf(t, lam), 1]"
   ]
  },
  {
   "cell_type": "markdown",
   "metadata": {},
   "source": [
    "Putting it together, here's the Bayes table."
   ]
  },
  {
   "cell_type": "code",
   "execution_count": 7,
   "metadata": {},
   "outputs": [
    {
     "data": {
      "text/html": [
       "<div>\n",
       "<style scoped>\n",
       "    .dataframe tbody tr th:only-of-type {\n",
       "        vertical-align: middle;\n",
       "    }\n",
       "\n",
       "    .dataframe tbody tr th {\n",
       "        vertical-align: top;\n",
       "    }\n",
       "\n",
       "    .dataframe thead th {\n",
       "        text-align: right;\n",
       "    }\n",
       "</style>\n",
       "<table border=\"1\" class=\"dataframe\">\n",
       "  <thead>\n",
       "    <tr style=\"text-align: right;\">\n",
       "      <th></th>\n",
       "      <th>prior</th>\n",
       "      <th>likelihood</th>\n",
       "      <th>unnorm</th>\n",
       "      <th>posterior</th>\n",
       "    </tr>\n",
       "  </thead>\n",
       "  <tbody>\n",
       "    <tr>\n",
       "      <th>Right way</th>\n",
       "      <td>0.5</td>\n",
       "      <td>0.371577</td>\n",
       "      <td>0.185788</td>\n",
       "      <td>0.270912</td>\n",
       "    </tr>\n",
       "    <tr>\n",
       "      <th>Wrong way</th>\n",
       "      <td>0.5</td>\n",
       "      <td>1.000000</td>\n",
       "      <td>0.500000</td>\n",
       "      <td>0.729088</td>\n",
       "    </tr>\n",
       "  </tbody>\n",
       "</table>\n",
       "</div>"
      ],
      "text/plain": [
       "           prior  likelihood    unnorm  posterior\n",
       "Right way    0.5    0.371577  0.185788   0.270912\n",
       "Wrong way    0.5    1.000000  0.500000   0.729088"
      ]
     },
     "execution_count": 7,
     "metadata": {},
     "output_type": "execute_result"
    }
   ],
   "source": [
    "bayes_table(hypos, prior, likelihood)"
   ]
  },
  {
   "cell_type": "markdown",
   "metadata": {},
   "source": [
    "After 0.9 seconds, the probability is about 73% that the orientation of the connector is wrong, so you might want to think about trying the other side.\n",
    "\n",
    "But if it takes 0.1 seconds to flip, maybe you should keep trying a little longer. To figure out when to flip, let's do the same analysis again for general values of $\\lambda$ and $t$."
   ]
  },
  {
   "cell_type": "markdown",
   "metadata": {},
   "source": [
    "## Generalization\n",
    "\n",
    "To minimize human error, I like to get Sympy to do the algebra. Here are the symbols I'll use."
   ]
  },
  {
   "cell_type": "code",
   "execution_count": 8,
   "metadata": {},
   "outputs": [],
   "source": [
    "from sympy import symbols, exp\n",
    "\n",
    "t, lam, p, q, r = symbols('t lam p q r')"
   ]
  },
  {
   "cell_type": "markdown",
   "metadata": {},
   "source": [
    "Here's the likelihood again, using the symbols."
   ]
  },
  {
   "cell_type": "code",
   "execution_count": 9,
   "metadata": {},
   "outputs": [
    {
     "data": {
      "text/plain": [
       "[exp(-lam*t), 1]"
      ]
     },
     "execution_count": 9,
     "metadata": {},
     "output_type": "execute_result"
    }
   ],
   "source": [
    "likelihood = [exp(-lam * t), 1]\n",
    "likelihood"
   ]
  },
  {
   "cell_type": "markdown",
   "metadata": {},
   "source": [
    "And here's the Bayes table, using $p$ and $q$ for the prior probabilities of the hypotheses."
   ]
  },
  {
   "cell_type": "code",
   "execution_count": 11,
   "metadata": {},
   "outputs": [
    {
     "data": {
      "text/html": [
       "<div>\n",
       "<style scoped>\n",
       "    .dataframe tbody tr th:only-of-type {\n",
       "        vertical-align: middle;\n",
       "    }\n",
       "\n",
       "    .dataframe tbody tr th {\n",
       "        vertical-align: top;\n",
       "    }\n",
       "\n",
       "    .dataframe thead th {\n",
       "        text-align: right;\n",
       "    }\n",
       "</style>\n",
       "<table border=\"1\" class=\"dataframe\">\n",
       "  <thead>\n",
       "    <tr style=\"text-align: right;\">\n",
       "      <th></th>\n",
       "      <th>prior</th>\n",
       "      <th>likelihood</th>\n",
       "      <th>unnorm</th>\n",
       "      <th>posterior</th>\n",
       "    </tr>\n",
       "  </thead>\n",
       "  <tbody>\n",
       "    <tr>\n",
       "      <th>Right way</th>\n",
       "      <td>p</td>\n",
       "      <td>exp(-lam*t)</td>\n",
       "      <td>p*exp(-lam*t)</td>\n",
       "      <td>p*exp(-lam*t)/(p*exp(-lam*t) + q)</td>\n",
       "    </tr>\n",
       "    <tr>\n",
       "      <th>Wrong way</th>\n",
       "      <td>q</td>\n",
       "      <td>1</td>\n",
       "      <td>q</td>\n",
       "      <td>q/(p*exp(-lam*t) + q)</td>\n",
       "    </tr>\n",
       "  </tbody>\n",
       "</table>\n",
       "</div>"
      ],
      "text/plain": [
       "          prior   likelihood         unnorm                          posterior\n",
       "Right way     p  exp(-lam*t)  p*exp(-lam*t)  p*exp(-lam*t)/(p*exp(-lam*t) + q)\n",
       "Wrong way     q            1              q              q/(p*exp(-lam*t) + q)"
      ]
     },
     "execution_count": 11,
     "metadata": {},
     "output_type": "execute_result"
    }
   ],
   "source": [
    "prior = [p, q]\n",
    "table = bayes_table(hypos, prior, likelihood)\n",
    "table"
   ]
  },
  {
   "cell_type": "markdown",
   "metadata": {},
   "source": [
    "From the table I'll select the posterior probability that the orientation is correct."
   ]
  },
  {
   "cell_type": "code",
   "execution_count": 12,
   "metadata": {},
   "outputs": [
    {
     "data": {
      "text/latex": [
       "$\\displaystyle \\frac{p e^{- lam t}}{p e^{- lam t} + q}$"
      ],
      "text/plain": [
       "p*exp(-lam*t)/(p*exp(-lam*t) + q)"
      ]
     },
     "execution_count": 12,
     "metadata": {},
     "output_type": "execute_result"
    }
   ],
   "source": [
    "expr = table.loc['Right way', 'posterior']\n",
    "expr"
   ]
  },
  {
   "cell_type": "markdown",
   "metadata": {},
   "source": [
    "You might recognize this as a form of the [logistic function](https://en.wikipedia.org/wiki/Logistic_function). With the substitution `odds = p/q` we can compute it like this:"
   ]
  },
  {
   "cell_type": "code",
   "execution_count": 13,
   "metadata": {},
   "outputs": [],
   "source": [
    "def logistic(p, lam, t):\n",
    "    q = 1-p\n",
    "    odds = q / p\n",
    "    return 1 / (1 + odds * np.exp(lam * t))"
   ]
  },
  {
   "cell_type": "markdown",
   "metadata": {},
   "source": [
    "Let's see what that looks like for a range of values of `t`, assuming that the initial probability is `0.5`."
   ]
  },
  {
   "cell_type": "code",
   "execution_count": 14,
   "metadata": {},
   "outputs": [
    {
     "data": {
      "image/png": "[encoded data removed]",
      "text/plain": [
       "<Figure size 432x288 with 1 Axes>"
      ]
     },
     "metadata": {
      "needs_background": "light"
     },
     "output_type": "display_data"
    }
   ],
   "source": [
    "import matplotlib.pyplot as plt\n",
    "\n",
    "ts = np.linspace(0, 4)\n",
    "ps = logistic(0.5, 1.1, ts)\n",
    "\n",
    "plt.plot(ts, ps)\n",
    "plt.xlabel(\"How long you've been trying (s)\")\n",
    "plt.ylabel(\"Probability the orientation is right\");"
   ]
  },
  {
   "cell_type": "markdown",
   "metadata": {},
   "source": [
    "After a few seconds, you would be reasonably convinced that the orientation is wrong."
   ]
  },
  {
   "cell_type": "markdown",
   "metadata": {},
   "source": [
    "## Strategy\n",
    "\n",
    "Now, let's think about turning belief into action. Let me start with a conjecture: I suspect that the best strategy is to try on the first side until the probability of correct orientation drops below some threshold (to be determined), then try on the second side until the probability drops below that threshold again, and repeat until success.\n",
    "\n",
    "To test this strategy, we will have to figure out how long to try as a function of the prior probability, `p`, and the threshold probability, `r`. Again, I'll make Sympy do the work.\n",
    "\n",
    "Here's the equation that sets the posterior probability to `r`."
   ]
  },
  {
   "cell_type": "code",
   "execution_count": 15,
   "metadata": {},
   "outputs": [
    {
     "data": {
      "text/latex": [
       "$\\displaystyle \\frac{p e^{- lam t}}{p e^{- lam t} + q} = r$"
      ],
      "text/plain": [
       "Eq(p*exp(-lam*t)/(p*exp(-lam*t) + q), r)"
      ]
     },
     "execution_count": 15,
     "metadata": {},
     "output_type": "execute_result"
    }
   ],
   "source": [
    "from sympy import Eq, solve\n",
    "\n",
    "eqn = Eq(expr, r)\n",
    "eqn"
   ]
  },
  {
   "cell_type": "markdown",
   "metadata": {},
   "source": [
    "And here's the solution."
   ]
  },
  {
   "cell_type": "code",
   "execution_count": 16,
   "metadata": {},
   "outputs": [
    {
     "data": {
      "text/latex": [
       "$\\displaystyle \\frac{\\log{\\left(\\frac{p \\left(1 - r\\right)}{q r} \\right)}}{lam}$"
      ],
      "text/plain": [
       "log(p*(1 - r)/(q*r))/lam"
      ]
     },
     "execution_count": 16,
     "metadata": {},
     "output_type": "execute_result"
    }
   ],
   "source": [
    "solve(eqn, t)[0]"
   ]
  },
  {
   "cell_type": "markdown",
   "metadata": {},
   "source": [
    "And here's how we can express this solution in terms of the prior and posterior odds."
   ]
  },
  {
   "cell_type": "code",
   "execution_count": 17,
   "metadata": {},
   "outputs": [],
   "source": [
    "def wait_time(p, lam, r):\n",
    "    prior_odds = p / (1-p)\n",
    "    posterior_odds = r / (1-r)\n",
    "    return np.log(prior_odds / posterior_odds) / lam"
   ]
  },
  {
   "cell_type": "markdown",
   "metadata": {},
   "source": [
    "Let's see what that looks like for a range of values of `r`, assuming that the prior probability is `0.5`."
   ]
  },
  {
   "cell_type": "code",
   "execution_count": 18,
   "metadata": {},
   "outputs": [
    {
     "data": {
      "image/png": "[encoded data removed]",
      "text/plain": [
       "<Figure size 432x288 with 1 Axes>"
      ]
     },
     "metadata": {
      "needs_background": "light"
     },
     "output_type": "display_data"
    }
   ],
   "source": [
    "rs = np.linspace(0.05, 0.5)\n",
    "ts = wait_time(0.5, 1.1, rs)\n",
    "\n",
    "plt.plot(rs, ts)\n",
    "plt.xlabel(\"Probability the orientation is right\")\n",
    "plt.ylabel(\"How long to keep trying (s)\");"
   ]
  },
  {
   "cell_type": "markdown",
   "metadata": {},
   "source": [
    "When the threshold is low, we have to wait a few seconds to reach it. As the threshold increases, the time to reach is decreases. "
   ]
  },
  {
   "cell_type": "markdown",
   "metadata": {},
   "source": [
    "## Simulation\n",
    "\n",
    "As a step toward optimization, let's run a simulation. The following function takes as parameters:\n",
    "\n",
    "* `correct`: A Boolean indicating if the orientation is correct.\n",
    "* `p`: The prior probability that the orientation is correct.\n",
    "* `lam`: The rate parameter for the distribution of time until success.\n",
    "* `r`: The threshold for the posterior probability.\n",
    "* `flip`: The time it takes to flip the connector, in seconds.\n",
    "* `trace`: A list that indicates how much time we have spent, so far, trying and flipping.\n",
    "\n"
   ]
  },
  {
   "cell_type": "code",
   "execution_count": 19,
   "metadata": {},
   "outputs": [],
   "source": [
    "def simulate(correct, p, lam, r, flip, trace):\n",
    "    # figure out the maximum time we should try before flipping\n",
    "    wait = wait_time(p, lam, r)\n",
    "    \n",
    "    # if we're on the correct side, see if we succeed before time's up\n",
    "    if correct:\n",
    "        t = np.random.exponential(1/lam)\n",
    "        if t < wait:\n",
    "            # if so, update and return the trace\n",
    "            return trace + [t]\n",
    "    \n",
    "    # if time expired, add the wait time and flip time to the trace  \n",
    "    # and make a recursive call to continue the simulation\n",
    "    return simulate(not correct, 1-r, lam, r, flip, trace + [wait, flip])"
   ]
  },
  {
   "cell_type": "markdown",
   "metadata": {},
   "source": [
    "Here's a test run if we start on the correct side."
   ]
  },
  {
   "cell_type": "code",
   "execution_count": 20,
   "metadata": {},
   "outputs": [
    {
     "data": {
      "text/plain": [
       "[0.2757566248610881]"
      ]
     },
     "execution_count": 20,
     "metadata": {},
     "output_type": "execute_result"
    }
   ],
   "source": [
    "simulate(correct=True, p=0.5, lam=1.1, r=0.2, flip=0.1, trace=[])"
   ]
  },
  {
   "cell_type": "markdown",
   "metadata": {},
   "source": [
    "And here's a run where we start on the wrong side."
   ]
  },
  {
   "cell_type": "code",
   "execution_count": 21,
   "metadata": {},
   "outputs": [
    {
     "data": {
      "text/plain": [
       "[1.2602676010180822, 0.1, 0.9257473294907383]"
      ]
     },
     "execution_count": 21,
     "metadata": {},
     "output_type": "execute_result"
    }
   ],
   "source": [
    "simulate(correct=False, p=0.5, lam=1.1, r=0.2, flip=0.1, trace=[])"
   ]
  },
  {
   "cell_type": "markdown",
   "metadata": {},
   "source": [
    "Now here's a function that runs the simulation many times, starting in the right orientation half the time, and with prior probability `p=0.5`.\n",
    "\n",
    "It returns two arrays, containing the length of the trace and the total duration for each simulation."
   ]
  },
  {
   "cell_type": "code",
   "execution_count": 22,
   "metadata": {},
   "outputs": [],
   "source": [
    "def run_simulations(lam, r, flip, iters=20000):\n",
    "    res = []\n",
    "    for i in range(iters):\n",
    "        correct = i%2\n",
    "        trace = simulate(correct, 0.5, lam, r, flip, [])\n",
    "        res.append((len(trace), sum(trace)))\n",
    "        \n",
    "    return np.transpose(res)"
   ]
  },
  {
   "cell_type": "markdown",
   "metadata": {},
   "source": [
    "Here's the average total duration with threshold probability `r=0.25`."
   ]
  },
  {
   "cell_type": "code",
   "execution_count": 23,
   "metadata": {},
   "outputs": [
    {
     "data": {
      "text/plain": [
       "2.017637828167076"
      ]
     },
     "execution_count": 23,
     "metadata": {},
     "output_type": "execute_result"
    }
   ],
   "source": [
    "lengths, totals = run_simulations(lam=1.1, r=0.25, flip=0.1)\n",
    "totals.mean()"
   ]
  },
  {
   "cell_type": "markdown",
   "metadata": {},
   "source": [
    "With this threshold, it takes about 2 seconds to connect, on average."
   ]
  },
  {
   "cell_type": "markdown",
   "metadata": {},
   "source": [
    "## Optimization\n",
    "\n",
    "Now let's see how the average duration varies as we sweep through a range of values for the threshold probability, `r`:"
   ]
  },
  {
   "cell_type": "code",
   "execution_count": 25,
   "metadata": {},
   "outputs": [
    {
     "data": {
      "text/plain": [
       "array([0.15  , 0.1625, 0.175 , 0.1875, 0.2   , 0.2125, 0.225 , 0.2375,\n",
       "       0.25  , 0.2625, 0.275 , 0.2875, 0.3   , 0.3125, 0.325 , 0.3375,\n",
       "       0.35  , 0.3625, 0.375 , 0.3875, 0.4   ])"
      ]
     },
     "execution_count": 25,
     "metadata": {},
     "output_type": "execute_result"
    }
   ],
   "source": [
    "rs = np.linspace(0.15, 0.4, 21)\n",
    "rs"
   ]
  },
  {
   "cell_type": "code",
   "execution_count": 26,
   "metadata": {},
   "outputs": [],
   "source": [
    "np.random.seed(17)\n",
    "\n",
    "res = []\n",
    "for r in rs:\n",
    "    lengths, totals = run_simulations(lam=1.1, r=r, flip=0.1)\n",
    "    res.append((r, totals.mean()))"
   ]
  },
  {
   "cell_type": "code",
   "execution_count": 27,
   "metadata": {
    "tags": [
     "hide-cell"
    ]
   },
   "outputs": [],
   "source": [
    "from statsmodels.nonparametric.smoothers_lowess import lowess\n",
    "\n",
    "def make_lowess(series):\n",
    "    \"\"\"Use LOWESS to compute a smooth line.\n",
    "\n",
    "    series: pd.Series\n",
    "\n",
    "    returns: pd.Series\n",
    "    \"\"\"\n",
    "    endog = series.values\n",
    "    exog = series.index.values\n",
    "\n",
    "    smooth = lowess(endog, exog)\n",
    "    index, data = np.transpose(smooth)\n",
    "\n",
    "    return pd.Series(data, index=index)"
   ]
  },
  {
   "cell_type": "code",
   "execution_count": 28,
   "metadata": {
    "tags": [
     "hide-cell"
    ]
   },
   "outputs": [],
   "source": [
    "def plot_series_lowess(series, color):\n",
    "    \"\"\"Plots a series of data points and a smooth line.\n",
    "\n",
    "    series: pd.Series\n",
    "    color: string or tuple\n",
    "    \"\"\"\n",
    "    series.plot(lw=0, marker='o', color=color, alpha=0.5)\n",
    "    smooth = make_lowess(series)\n",
    "    smooth.plot(label='_', color=color)"
   ]
  },
  {
   "cell_type": "code",
   "execution_count": 29,
   "metadata": {},
   "outputs": [
    {
     "data": {
      "image/png": "[encoded data removed]",
      "text/plain": [
       "<Figure size 432x288 with 1 Axes>"
      ]
     },
     "metadata": {
      "needs_background": "light"
     },
     "output_type": "display_data"
    }
   ],
   "source": [
    "rs, ts = np.transpose(res)\n",
    "series = pd.Series(ts, rs)\n",
    "\n",
    "plot_series_lowess(series, 'C1')\n",
    "\n",
    "plt.xlabel(\"Threshold probability where you flip (r)\")\n",
    "plt.ylabel(\"Average total duration (seconds)\");"
   ]
  },
  {
   "cell_type": "markdown",
   "metadata": {},
   "source": [
    "It looks like the optimal value of `r` is close to `0.3`, maybe `0.29`.\n",
    "\n",
    "With that threshold we can see how long we should try on the first side, starting with prior probability `p=0.5`."
   ]
  },
  {
   "cell_type": "code",
   "execution_count": 30,
   "metadata": {},
   "outputs": [
    {
     "data": {
      "text/plain": [
       "0.813985497322583"
      ]
     },
     "execution_count": 30,
     "metadata": {},
     "output_type": "execute_result"
    }
   ],
   "source": [
    "r_opt = 0.29\n",
    "wait_time(p=0.5, lam=1.1, r=r_opt)"
   ]
  },
  {
   "cell_type": "markdown",
   "metadata": {},
   "source": [
    "With the given values of `lam` and `flip`, it turns out the optimal time to weight is about `0.8` seconds.\n",
    "\n",
    "If we have to flip, the prior probability for the second side is `p=1-r`, so we have to weight twice as long for the posterior probability to get down to `r`."
   ]
  },
  {
   "cell_type": "code",
   "execution_count": 31,
   "metadata": {},
   "outputs": [
    {
     "data": {
      "text/plain": [
       "1.627970994645166"
      ]
     },
     "execution_count": 31,
     "metadata": {},
     "output_type": "execute_result"
    }
   ],
   "source": [
    "wait_time(p=1-r_opt, lam=1.1, r=r_opt)"
   ]
  },
  {
   "cell_type": "markdown",
   "metadata": {},
   "source": [
    "## How many flips?\n",
    "\n",
    "Now let's run the simulations with the optimal value of `r` and see what the distributions look like for the total time and the number of flips."
   ]
  },
  {
   "cell_type": "code",
   "execution_count": 32,
   "metadata": {},
   "outputs": [],
   "source": [
    "lengths, totals = run_simulations(lam=1.1, r=r_opt, flip=0.1)"
   ]
  },
  {
   "cell_type": "markdown",
   "metadata": {},
   "source": [
    "Here's the distribution of total time, represented as a CDF."
   ]
  },
  {
   "cell_type": "code",
   "execution_count": 33,
   "metadata": {},
   "outputs": [
    {
     "data": {
      "image/png": "[encoded data removed]",
      "text/plain": [
       "<Figure size 432x288 with 1 Axes>"
      ]
     },
     "metadata": {
      "needs_background": "light"
     },
     "output_type": "display_data"
    }
   ],
   "source": [
    "from empiricaldist import Cdf\n",
    "\n",
    "Cdf.from_seq(totals).plot()\n",
    "\n",
    "plt.xlabel('Total time to connect (seconds)')\n",
    "plt.ylabel('CDF')\n",
    "plt.title('Distribution of total time to connect');"
   ]
  },
  {
   "cell_type": "markdown",
   "metadata": {},
   "source": [
    "And here's the distribution for the total number of flips."
   ]
  },
  {
   "cell_type": "code",
   "execution_count": 34,
   "metadata": {},
   "outputs": [
    {
     "data": {
      "image/png": "[encoded data removed]",
      "text/plain": [
       "<Figure size 432x288 with 1 Axes>"
      ]
     },
     "metadata": {
      "needs_background": "light"
     },
     "output_type": "display_data"
    }
   ],
   "source": [
    "from empiricaldist import Pmf\n",
    "\n",
    "flips = (lengths-1) // 2\n",
    "Pmf.from_seq(flips).bar()\n",
    "\n",
    "plt.xlabel('How many times you have to flip')\n",
    "plt.ylabel('PMF')\n",
    "plt.title('Distribution of number of flips');"
   ]
  },
  {
   "cell_type": "markdown",
   "metadata": {},
   "source": [
    "The probability of getting it right on the first try is only about 30%. That might seem low, because the chance of starting in the right orientation is 50%, but remember that we have a substantial chance of flipping even if we start in the right orientation (and in that case, we will have to flip at least twice).\n",
    "\n",
    "The most common outcome is that we have to flip once, about 40% of the time. And the probability of the notorious double-flip is 15-20%. \n",
    "\n",
    "Fortunately, it is rare to flip three or more times."
   ]
  },
  {
   "cell_type": "markdown",
   "metadata": {},
   "source": [
    "## Summary\n",
    "\n",
    "With that, I think we have solved the USB connection problem.\n",
    "\n",
    "1. For given parameters `lam` and `flip`, we can find the threshold probability, `r`, that minimizes the average time to connect.\n",
    "\n",
    "2. Given this optimal value, we can estimate the distribution of total time and the number of times we have to flip.\n",
    "\n",
    "Sadly, all of this fun is gradually being spoiled by the encroachment of the [USB-C](https://en.wikipedia.org/wiki/USB-C) connector, which is reversible."
   ]
  },
  {
   "cell_type": "markdown",
   "metadata": {},
   "source": [
    "*If you like this article, you might also like the second edition of [*Think Bayes*](https://greenteapress.com/wp/think-bayes/).*\n",
    "\n",
    "Copyright 2021 Allen Downey\n",
    "\n",
    "Code: [MIT License](https://opensource.org/licenses/MIT)\n",
    "\n",
    "Text: [Attribution-NonCommercial-ShareAlike 4.0 International (CC BY-NC-SA 4.0)](https://creativecommons.org/licenses/by-nc-sa/4.0/)"
   ]
  },
  {
   "cell_type": "code",
   "execution_count": null,
   "metadata": {},
   "outputs": [],
   "source": []
  }
 ],
 "metadata": {
  "celltoolbar": "Tags",
  "kernelspec": {
   "display_name": "Python 3",
   "language": "python",
   "name": "python3"
  },
  "language_info": {
   "codemirror_mode": {
    "name": "ipython",
    "version": 3
   },
   "file_extension": ".py",
   "mimetype": "text/x-python",
   "name": "python",
   "nbconvert_exporter": "python",
   "pygments_lexer": "ipython3",
   "version": "3.8.8"
  }
 },
 "nbformat": 4,
 "nbformat_minor": 4
}
