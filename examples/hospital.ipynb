{
 "cells": [
  {
   "cell_type": "markdown",
   "metadata": {},
   "source": [
    "# Grid algorithms for hierarchical models\n",
    "\n",
    "[Bayesian Inference with PyMC](https://allendowney.github.io/BayesianInferencePyMC)\n",
    "\n",
    "Copyright 2021 Allen B. Downey\n",
    "\n",
    "License: [Attribution-NonCommercial-ShareAlike 4.0 International (CC BY-NC-SA 4.0)](https://creativecommons.org/licenses/by-nc-sa/4.0/)"
   ]
  },
  {
   "cell_type": "markdown",
   "metadata": {},
   "source": [
    "It is widely believed that grid algorithms are only practical for models with 1-3 parameters, or maybe 4-5 if you are careful.\n",
    "[I've said so myself](https://allendowney.github.io/ThinkBayes2/chap19.html).\n",
    "\n",
    "But recently I used a grid algorithm to solve the [emitter-detector problem](https://www.allendowney.com/blog/2021/09/05/emitter-detector-redux/), and along the way I noticed something about the structure of the problem: although the model has two parameters, the data only depend on one of them.\n",
    "And that made it possible to evaluate the likelihood function, and update the model, very efficiently.\n",
    "\n",
    "Then I realized that many hierarchical models have a similar structure: the data depend on a small number of parameters, which depend on a small number of hyperparameters.\n",
    "I wondered whether the same method would generalize to more complex models, and it does.\n",
    "\n",
    "As an example, in this notebook I'll use a logitnormal-binomial hierarchical model to solve a problem with two hyperparameters and 13 parameters, with a total run time that's not just practical; it's substantially faster than MCMC.\n",
    "\n",
    "\n"
   ]
  },
  {
   "cell_type": "code",
   "execution_count": 1,
   "metadata": {},
   "outputs": [],
   "source": [
    "# If we're running on Colab, install libraries\n",
    "import sys\n",
    "IN_COLAB = 'google.colab' in sys.modules\n",
    "\n",
    "if IN_COLAB:\n",
    "    !pip install pymc3\n",
    "    !pip install arviz\n",
    "    !pip install empiricaldist"
   ]
  },
  {
   "cell_type": "code",
   "execution_count": 2,
   "metadata": {},
   "outputs": [],
   "source": [
    "# PyMC generates a FutureWarning we don't need to deal with yet\n",
    "\n",
    "import warnings\n",
    "warnings.filterwarnings(\"ignore\", category=FutureWarning)"
   ]
  },
  {
   "cell_type": "code",
   "execution_count": 3,
   "metadata": {},
   "outputs": [],
   "source": [
    "import matplotlib.pyplot as plt\n",
    "\n",
    "def legend(**options):\n",
    "    \"\"\"Make a legend only if there are labels.\"\"\"\n",
    "    handles, labels = plt.gca().get_legend_handles_labels()\n",
    "    if len(labels):\n",
    "        plt.legend(**options)"
   ]
  },
  {
   "cell_type": "code",
   "execution_count": 4,
   "metadata": {},
   "outputs": [],
   "source": [
    "def decorate(**options):\n",
    "    plt.gca().set(**options)\n",
    "    legend()\n",
    "    plt.tight_layout()"
   ]
  },
  {
   "cell_type": "code",
   "execution_count": 5,
   "metadata": {},
   "outputs": [],
   "source": [
    "from empiricaldist import Cdf\n",
    "\n",
    "def compare_cdf(pmf, sample):\n",
    "    pmf.make_cdf().step(label='grid')\n",
    "    Cdf.from_seq(sample).plot(label='mcmc')\n",
    "    print(pmf.mean(), sample.mean())\n",
    "    decorate()"
   ]
  },
  {
   "cell_type": "code",
   "execution_count": 6,
   "metadata": {},
   "outputs": [],
   "source": [
    "from empiricaldist import Pmf\n",
    "\n",
    "def make_pmf(ps, qs, name):\n",
    "    pmf = Pmf(ps, qs)\n",
    "    pmf.normalize()\n",
    "    pmf.index.name = name\n",
    "    return pmf"
   ]
  },
  {
   "cell_type": "markdown",
   "metadata": {},
   "source": [
    "## Heart Attack Data\n",
    "\n",
    "The problem I'll solve is based on [Chapter 10 of *Probability and Bayesian Modeling*](https://bayesball.github.io/BOOK/bayesian-hierarchical-modeling.html#example-deaths-after-heart-attack); it uses data on death rates due to heart attack for patients treated at various hospitals in New York City.\n",
    "\n",
    "We can use Pandas to read the data into a `DataFrame`."
   ]
  },
  {
   "cell_type": "code",
   "execution_count": 7,
   "metadata": {},
   "outputs": [],
   "source": [
    "import os\n",
    "\n",
    "filename = 'DeathHeartAttackManhattan.csv'\n",
    "if not os.path.exists(filename):\n",
    "    !wget https://github.com/AllenDowney/BayesianInferencePyMC/raw/main/DeathHeartAttackManhattan.csv"
   ]
  },
  {
   "cell_type": "code",
   "execution_count": 8,
   "metadata": {},
   "outputs": [
    {
     "data": {
      "text/html": [
       "<div>\n",
       "<style scoped>\n",
       "    .dataframe tbody tr th:only-of-type {\n",
       "        vertical-align: middle;\n",
       "    }\n",
       "\n",
       "    .dataframe tbody tr th {\n",
       "        vertical-align: top;\n",
       "    }\n",
       "\n",
       "    .dataframe thead th {\n",
       "        text-align: right;\n",
       "    }\n",
       "</style>\n",
       "<table border=\"1\" class=\"dataframe\">\n",
       "  <thead>\n",
       "    <tr style=\"text-align: right;\">\n",
       "      <th></th>\n",
       "      <th>Hospital</th>\n",
       "      <th>Cases</th>\n",
       "      <th>Deaths</th>\n",
       "      <th>Death %</th>\n",
       "    </tr>\n",
       "  </thead>\n",
       "  <tbody>\n",
       "    <tr>\n",
       "      <th>0</th>\n",
       "      <td>Bellevue Hospital Center</td>\n",
       "      <td>129</td>\n",
       "      <td>4</td>\n",
       "      <td>3.101</td>\n",
       "    </tr>\n",
       "    <tr>\n",
       "      <th>1</th>\n",
       "      <td>Harlem Hospital Center</td>\n",
       "      <td>35</td>\n",
       "      <td>1</td>\n",
       "      <td>2.857</td>\n",
       "    </tr>\n",
       "    <tr>\n",
       "      <th>2</th>\n",
       "      <td>Lenox Hill Hospital</td>\n",
       "      <td>228</td>\n",
       "      <td>18</td>\n",
       "      <td>7.894</td>\n",
       "    </tr>\n",
       "    <tr>\n",
       "      <th>3</th>\n",
       "      <td>Metropolitan Hospital Center</td>\n",
       "      <td>84</td>\n",
       "      <td>7</td>\n",
       "      <td>8.333</td>\n",
       "    </tr>\n",
       "    <tr>\n",
       "      <th>4</th>\n",
       "      <td>Mount Sinai Beth Israel</td>\n",
       "      <td>291</td>\n",
       "      <td>24</td>\n",
       "      <td>8.247</td>\n",
       "    </tr>\n",
       "    <tr>\n",
       "      <th>5</th>\n",
       "      <td>Mount Sinai Hospital</td>\n",
       "      <td>270</td>\n",
       "      <td>16</td>\n",
       "      <td>5.926</td>\n",
       "    </tr>\n",
       "    <tr>\n",
       "      <th>6</th>\n",
       "      <td>Mount Sinai Roosevelt</td>\n",
       "      <td>46</td>\n",
       "      <td>6</td>\n",
       "      <td>13.043</td>\n",
       "    </tr>\n",
       "    <tr>\n",
       "      <th>7</th>\n",
       "      <td>Mount Sinai St. Luke’s</td>\n",
       "      <td>293</td>\n",
       "      <td>19</td>\n",
       "      <td>6.485</td>\n",
       "    </tr>\n",
       "    <tr>\n",
       "      <th>8</th>\n",
       "      <td>NYU Hospitals Center</td>\n",
       "      <td>241</td>\n",
       "      <td>15</td>\n",
       "      <td>6.224</td>\n",
       "    </tr>\n",
       "    <tr>\n",
       "      <th>9</th>\n",
       "      <td>NYP Hospital - Allen Hospital</td>\n",
       "      <td>105</td>\n",
       "      <td>13</td>\n",
       "      <td>12.381</td>\n",
       "    </tr>\n",
       "    <tr>\n",
       "      <th>10</th>\n",
       "      <td>NYP Hospital - Columbia Presbyterian Center</td>\n",
       "      <td>353</td>\n",
       "      <td>25</td>\n",
       "      <td>7.082</td>\n",
       "    </tr>\n",
       "    <tr>\n",
       "      <th>11</th>\n",
       "      <td>NYP Hospital - New York Weill Cornell Center</td>\n",
       "      <td>250</td>\n",
       "      <td>11</td>\n",
       "      <td>4.400</td>\n",
       "    </tr>\n",
       "    <tr>\n",
       "      <th>12</th>\n",
       "      <td>NYP/Lower Manhattan Hospital</td>\n",
       "      <td>41</td>\n",
       "      <td>4</td>\n",
       "      <td>9.756</td>\n",
       "    </tr>\n",
       "  </tbody>\n",
       "</table>\n",
       "</div>"
      ],
      "text/plain": [
       "                                        Hospital  Cases  Deaths  Death %\n",
       "0                       Bellevue Hospital Center    129       4    3.101\n",
       "1                         Harlem Hospital Center     35       1    2.857\n",
       "2                            Lenox Hill Hospital    228      18    7.894\n",
       "3                   Metropolitan Hospital Center     84       7    8.333\n",
       "4                        Mount Sinai Beth Israel    291      24    8.247\n",
       "5                           Mount Sinai Hospital    270      16    5.926\n",
       "6                          Mount Sinai Roosevelt     46       6   13.043\n",
       "7                         Mount Sinai St. Luke’s    293      19    6.485\n",
       "8                           NYU Hospitals Center    241      15    6.224\n",
       "9                  NYP Hospital - Allen Hospital    105      13   12.381\n",
       "10   NYP Hospital - Columbia Presbyterian Center    353      25    7.082\n",
       "11  NYP Hospital - New York Weill Cornell Center    250      11    4.400\n",
       "12                  NYP/Lower Manhattan Hospital     41       4    9.756"
      ]
     },
     "execution_count": 8,
     "metadata": {},
     "output_type": "execute_result"
    }
   ],
   "source": [
    "import pandas as pd\n",
    "\n",
    "df = pd.read_csv(filename)\n",
    "df"
   ]
  },
  {
   "cell_type": "markdown",
   "metadata": {},
   "source": [
    "The columns we need are `Cases`, which is the number of patients treated at each hospital, and `Deaths`, which is the number of those patients who died."
   ]
  },
  {
   "cell_type": "code",
   "execution_count": 9,
   "metadata": {},
   "outputs": [],
   "source": [
    "data_ns = df['Cases'].values\n",
    "data_ks = df['Deaths'].values"
   ]
  },
  {
   "cell_type": "markdown",
   "metadata": {
    "tags": []
   },
   "source": [
    "## Solution with PyMC\n",
    "\n",
    "Here's a hierarchical model that estimates the death rate for each hospital, and simultaneously estimates the distribution of rates across hospitals."
   ]
  },
  {
   "cell_type": "code",
   "execution_count": 10,
   "metadata": {},
   "outputs": [],
   "source": [
    "import pymc3 as pm\n",
    "import theano.tensor as tt\n",
    "\n",
    "def make_model():\n",
    "    with pm.Model() as model:\n",
    "        mu = pm.Normal('mu', 0, 2)\n",
    "        sigma = pm.HalfNormal('sigma', sigma=1)\n",
    "        xs = pm.LogitNormal('xs', mu=mu, sigma=sigma, shape=len(data_ns))\n",
    "        ks = pm.Binomial('ks', n=data_ns, p=xs, observed=data_ks)\n",
    "    return model"
   ]
  },
  {
   "cell_type": "code",
   "execution_count": 11,
   "metadata": {},
   "outputs": [
    {
     "name": "stdout",
     "output_type": "stream",
     "text": [
      "CPU times: user 861 ms, sys: 59.1 ms, total: 920 ms\n",
      "Wall time: 2.21 s\n"
     ]
    },
    {
     "data": {
      "image/svg+xml": [
       "<?xml version=\"1.0\" encoding=\"UTF-8\" standalone=\"no\"?>\n",
       "<!DOCTYPE svg PUBLIC \"-//W3C//DTD SVG 1.1//EN\"\n",
       " \"http://www.w3.org/Graphics/SVG/1.1/DTD/svg11.dtd\">\n",
       "<!-- Generated by graphviz version 2.49.0 (20210829.0051)\n",
       " -->\n",
       "<!-- Pages: 1 -->\n",
       "<svg width=\"266pt\" height=\"344pt\"\n",
       " viewBox=\"0.00 0.00 266.21 343.86\" xmlns=\"http://www.w3.org/2000/svg\" xmlns:xlink=\"http://www.w3.org/1999/xlink\">\n",
       "<g id=\"graph0\" class=\"graph\" transform=\"scale(1 1) rotate(0) translate(4 339.86)\">\n",
       "<polygon fill=\"white\" stroke=\"transparent\" points=\"-4,4 -4,-339.86 262.21,-339.86 262.21,4 -4,4\"/>\n",
       "<g id=\"clust1\" class=\"cluster\">\n",
       "<title>cluster13</title>\n",
       "<path fill=\"none\" stroke=\"black\" d=\"M67.71,-8C67.71,-8 211.71,-8 211.71,-8 217.71,-8 223.71,-14 223.71,-20 223.71,-20 223.71,-220.91 223.71,-220.91 223.71,-226.91 217.71,-232.91 211.71,-232.91 211.71,-232.91 67.71,-232.91 67.71,-232.91 61.71,-232.91 55.71,-226.91 55.71,-220.91 55.71,-220.91 55.71,-20 55.71,-20 55.71,-14 61.71,-8 67.71,-8\"/>\n",
       "<text text-anchor=\"middle\" x=\"206.21\" y=\"-15.8\" font-family=\"Times,serif\" font-size=\"14.00\">13</text>\n",
       "</g>\n",
       "<!-- sigma -->\n",
       "<g id=\"node1\" class=\"node\">\n",
       "<title>sigma</title>\n",
       "<ellipse fill=\"none\" stroke=\"black\" cx=\"70.71\" cy=\"-298.38\" rx=\"70.92\" ry=\"37.45\"/>\n",
       "<text text-anchor=\"middle\" x=\"70.71\" y=\"-309.68\" font-family=\"Times,serif\" font-size=\"14.00\">sigma</text>\n",
       "<text text-anchor=\"middle\" x=\"70.71\" y=\"-294.68\" font-family=\"Times,serif\" font-size=\"14.00\">~</text>\n",
       "<text text-anchor=\"middle\" x=\"70.71\" y=\"-279.68\" font-family=\"Times,serif\" font-size=\"14.00\">HalfNormal</text>\n",
       "</g>\n",
       "<!-- xs -->\n",
       "<g id=\"node4\" class=\"node\">\n",
       "<title>xs</title>\n",
       "<ellipse fill=\"none\" stroke=\"black\" cx=\"139.71\" cy=\"-187.43\" rx=\"75.82\" ry=\"37.45\"/>\n",
       "<text text-anchor=\"middle\" x=\"139.71\" y=\"-198.73\" font-family=\"Times,serif\" font-size=\"14.00\">xs</text>\n",
       "<text text-anchor=\"middle\" x=\"139.71\" y=\"-183.73\" font-family=\"Times,serif\" font-size=\"14.00\">~</text>\n",
       "<text text-anchor=\"middle\" x=\"139.71\" y=\"-168.73\" font-family=\"Times,serif\" font-size=\"14.00\">LogitNormal</text>\n",
       "</g>\n",
       "<!-- sigma&#45;&gt;xs -->\n",
       "<g id=\"edge1\" class=\"edge\">\n",
       "<title>sigma&#45;&gt;xs</title>\n",
       "<path fill=\"none\" stroke=\"black\" d=\"M92.73,-262.61C98.83,-252.98 105.54,-242.39 111.92,-232.31\"/>\n",
       "<polygon fill=\"black\" stroke=\"black\" points=\"115.03,-233.94 117.42,-223.62 109.12,-230.2 115.03,-233.94\"/>\n",
       "</g>\n",
       "<!-- mu -->\n",
       "<g id=\"node2\" class=\"node\">\n",
       "<title>mu</title>\n",
       "<ellipse fill=\"none\" stroke=\"black\" cx=\"208.71\" cy=\"-298.38\" rx=\"49.49\" ry=\"37.45\"/>\n",
       "<text text-anchor=\"middle\" x=\"208.71\" y=\"-309.68\" font-family=\"Times,serif\" font-size=\"14.00\">mu</text>\n",
       "<text text-anchor=\"middle\" x=\"208.71\" y=\"-294.68\" font-family=\"Times,serif\" font-size=\"14.00\">~</text>\n",
       "<text text-anchor=\"middle\" x=\"208.71\" y=\"-279.68\" font-family=\"Times,serif\" font-size=\"14.00\">Normal</text>\n",
       "</g>\n",
       "<!-- mu&#45;&gt;xs -->\n",
       "<g id=\"edge2\" class=\"edge\">\n",
       "<title>mu&#45;&gt;xs</title>\n",
       "<path fill=\"none\" stroke=\"black\" d=\"M187.82,-264.4C181.37,-254.22 174.17,-242.84 167.34,-232.06\"/>\n",
       "<polygon fill=\"black\" stroke=\"black\" points=\"170.28,-230.15 161.97,-223.57 164.36,-233.9 170.28,-230.15\"/>\n",
       "</g>\n",
       "<!-- ks -->\n",
       "<g id=\"node3\" class=\"node\">\n",
       "<title>ks</title>\n",
       "<ellipse fill=\"lightgrey\" stroke=\"black\" cx=\"139.71\" cy=\"-76.48\" rx=\"56.64\" ry=\"37.45\"/>\n",
       "<text text-anchor=\"middle\" x=\"139.71\" y=\"-87.78\" font-family=\"Times,serif\" font-size=\"14.00\">ks</text>\n",
       "<text text-anchor=\"middle\" x=\"139.71\" y=\"-72.78\" font-family=\"Times,serif\" font-size=\"14.00\">~</text>\n",
       "<text text-anchor=\"middle\" x=\"139.71\" y=\"-57.78\" font-family=\"Times,serif\" font-size=\"14.00\">Binomial</text>\n",
       "</g>\n",
       "<!-- xs&#45;&gt;ks -->\n",
       "<g id=\"edge3\" class=\"edge\">\n",
       "<title>xs&#45;&gt;ks</title>\n",
       "<path fill=\"none\" stroke=\"black\" d=\"M139.71,-149.85C139.71,-141.67 139.71,-132.89 139.71,-124.37\"/>\n",
       "<polygon fill=\"black\" stroke=\"black\" points=\"143.21,-124.15 139.71,-114.15 136.21,-124.15 143.21,-124.15\"/>\n",
       "</g>\n",
       "</g>\n",
       "</svg>\n"
      ],
      "text/plain": [
       "<graphviz.dot.Digraph at 0x7f5e06cd5ca0>"
      ]
     },
     "execution_count": 11,
     "metadata": {},
     "output_type": "execute_result"
    }
   ],
   "source": [
    "%time model = make_model()\n",
    "pm.model_to_graphviz(model)"
   ]
  },
  {
   "cell_type": "code",
   "execution_count": 12,
   "metadata": {
    "tags": [
     "fill-in"
    ]
   },
   "outputs": [
    {
     "name": "stderr",
     "output_type": "stream",
     "text": [
      "Auto-assigning NUTS sampler...\n",
      "Initializing NUTS using jitter+adapt_diag...\n",
      "Multiprocess sampling (4 chains in 4 jobs)\n",
      "NUTS: [xs, sigma, mu]\n"
     ]
    },
    {
     "data": {
      "text/html": [
       "\n",
       "    <div>\n",
       "        <style>\n",
       "            /* Turns off some styling */\n",
       "            progress {\n",
       "                /* gets rid of default border in Firefox and Opera. */\n",
       "                border: none;\n",
       "                /* Needs to be in here for Safari polyfill so background images work as expected. */\n",
       "                background-size: auto;\n",
       "            }\n",
       "            .progress-bar-interrupted, .progress-bar-interrupted::-webkit-progress-bar {\n",
       "                background: #F44336;\n",
       "            }\n",
       "        </style>\n",
       "      <progress value='6000' class='' max='6000' style='width:300px; height:20px; vertical-align: middle;'></progress>\n",
       "      100.00% [6000/6000 00:08<00:00 Sampling 4 chains, 33 divergences]\n",
       "    </div>\n",
       "    "
      ],
      "text/plain": [
       "<IPython.core.display.HTML object>"
      ]
     },
     "metadata": {},
     "output_type": "display_data"
    },
    {
     "name": "stderr",
     "output_type": "stream",
     "text": [
      "Sampling 4 chains for 1_000 tune and 500 draw iterations (4_000 + 2_000 draws total) took 8 seconds.\n",
      "There were 10 divergences after tuning. Increase `target_accept` or reparameterize.\n",
      "The acceptance probability does not match the target. It is 0.9073295570554981, but should be close to 0.97. Try to increase the number of tuning steps.\n",
      "There were 21 divergences after tuning. Increase `target_accept` or reparameterize.\n",
      "The acceptance probability does not match the target. It is 0.8420540540729733, but should be close to 0.97. Try to increase the number of tuning steps.\n",
      "There were 2 divergences after tuning. Increase `target_accept` or reparameterize.\n",
      "The rhat statistic is larger than 1.05 for some parameters. This indicates slight problems during sampling.\n",
      "The estimated number of effective samples is smaller than 200 for some parameters.\n"
     ]
    },
    {
     "name": "stdout",
     "output_type": "stream",
     "text": [
      "CPU times: user 5.18 s, sys: 181 ms, total: 5.36 s\n",
      "Wall time: 12.8 s\n"
     ]
    }
   ],
   "source": [
    "with model:\n",
    "    pred = pm.sample_prior_predictive(1000)\n",
    "    %time trace = pm.sample(500, target_accept=0.97)"
   ]
  },
  {
   "cell_type": "markdown",
   "metadata": {},
   "source": [
    "Here are the posterior distributions of the hyperparameters"
   ]
  },
  {
   "cell_type": "code",
   "execution_count": 13,
   "metadata": {},
   "outputs": [
    {
     "data": {
      "image/png": "[encoded data removed]",
      "text/plain": [
       "<Figure size 993.6x331.2 with 2 Axes>"
      ]
     },
     "metadata": {
      "needs_background": "light"
     },
     "output_type": "display_data"
    }
   ],
   "source": [
    "import arviz as az\n",
    "\n",
    "with model:\n",
    "    az.plot_posterior(trace, var_names=['mu', 'sigma'])"
   ]
  },
  {
   "cell_type": "markdown",
   "metadata": {},
   "source": [
    "And we can extract the posterior distributions of the xs."
   ]
  },
  {
   "cell_type": "code",
   "execution_count": 14,
   "metadata": {},
   "outputs": [
    {
     "data": {
      "text/plain": [
       "(13, 2000)"
      ]
     },
     "execution_count": 14,
     "metadata": {},
     "output_type": "execute_result"
    }
   ],
   "source": [
    "trace_xs = trace['xs'].transpose()\n",
    "trace_xs.shape"
   ]
  },
  {
   "cell_type": "markdown",
   "metadata": {},
   "source": [
    "As an example, here's the posterior distribution of x for the first hospital."
   ]
  },
  {
   "cell_type": "code",
   "execution_count": 15,
   "metadata": {},
   "outputs": [
    {
     "data": {
      "image/png": "[encoded data removed]",
      "text/plain": [
       "<Figure size 432x288 with 1 Axes>"
      ]
     },
     "metadata": {
      "needs_background": "light"
     },
     "output_type": "display_data"
    }
   ],
   "source": [
    "with model:\n",
    "    az.plot_posterior(trace_xs[0])"
   ]
  },
  {
   "cell_type": "markdown",
   "metadata": {},
   "source": [
    "## The grid priors\n",
    "\n",
    "Now let's solve the same problem using a grid algorithm.\n",
    "I'll use the same priors for the hyperparameters, approximated by a grid with about 100 elements in each dimension."
   ]
  },
  {
   "cell_type": "code",
   "execution_count": 16,
   "metadata": {},
   "outputs": [
    {
     "data": {
      "image/png": "[encoded data removed]",
      "text/plain": [
       "<Figure size 432x288 with 1 Axes>"
      ]
     },
     "metadata": {
      "needs_background": "light"
     },
     "output_type": "display_data"
    }
   ],
   "source": [
    "import numpy as np\n",
    "from scipy.stats import norm\n",
    "\n",
    "mus = np.linspace(-6, 6, 101)\n",
    "ps = norm.pdf(mus, 0, 2)\n",
    "prior_mu = make_pmf(ps, mus, 'mu')\n",
    "\n",
    "prior_mu.plot()\n",
    "decorate(title='Prior distribution of mu')"
   ]
  },
  {
   "cell_type": "code",
   "execution_count": 17,
   "metadata": {},
   "outputs": [
    {
     "data": {
      "image/png": "[encoded data removed]",
      "text/plain": [
       "<Figure size 432x288 with 1 Axes>"
      ]
     },
     "metadata": {
      "needs_background": "light"
     },
     "output_type": "display_data"
    }
   ],
   "source": [
    "from scipy.stats import logistic\n",
    "\n",
    "sigmas = np.linspace(0.03, 3.6, 90)\n",
    "ps = norm.pdf(sigmas, 0, 1)\n",
    "prior_sigma = make_pmf(ps, sigmas, 'sigma')\n",
    "\n",
    "prior_sigma.plot()\n",
    "decorate(title='Prior distribution of sigma')"
   ]
  },
  {
   "cell_type": "markdown",
   "metadata": {},
   "source": [
    "The following cells confirm that these priors are consistent with the prior samples from PyMC."
   ]
  },
  {
   "cell_type": "code",
   "execution_count": 18,
   "metadata": {},
   "outputs": [
    {
     "name": "stdout",
     "output_type": "stream",
     "text": [
      "2.6020852139652106e-18 0.020921665913688884\n"
     ]
    },
    {
     "data": {
      "image/png": "[encoded data removed]",
      "text/plain": [
       "<Figure size 432x288 with 1 Axes>"
      ]
     },
     "metadata": {
      "needs_background": "light"
     },
     "output_type": "display_data"
    }
   ],
   "source": [
    "compare_cdf(prior_mu, pred['mu'])\n",
    "decorate(title='Prior distribution of mu')"
   ]
  },
  {
   "cell_type": "code",
   "execution_count": 19,
   "metadata": {},
   "outputs": [
    {
     "name": "stdout",
     "output_type": "stream",
     "text": [
      "0.8033718951689776 0.7864437840051585\n"
     ]
    },
    {
     "data": {
      "image/png": "[encoded data removed]",
      "text/plain": [
       "<Figure size 432x288 with 1 Axes>"
      ]
     },
     "metadata": {
      "needs_background": "light"
     },
     "output_type": "display_data"
    }
   ],
   "source": [
    "compare_cdf(prior_sigma, pred['sigma'])\n",
    "decorate(title='Prior distribution of sigma')"
   ]
  },
  {
   "cell_type": "markdown",
   "metadata": {},
   "source": [
    "\n",
    "## The joint distribution of hyperparameters\n",
    "\n",
    "I'll use `make_joint` to make an array that represents the joint prior distribution of the hyperparameters."
   ]
  },
  {
   "cell_type": "code",
   "execution_count": 20,
   "metadata": {},
   "outputs": [],
   "source": [
    "def make_joint(prior_x, prior_y):\n",
    "    X, Y = np.meshgrid(prior_x.ps, prior_y.ps, indexing='ij')\n",
    "    hyper = X * Y\n",
    "    return hyper"
   ]
  },
  {
   "cell_type": "code",
   "execution_count": 21,
   "metadata": {},
   "outputs": [
    {
     "data": {
      "text/plain": [
       "(101, 90)"
      ]
     },
     "execution_count": 21,
     "metadata": {},
     "output_type": "execute_result"
    }
   ],
   "source": [
    "prior_hyper = make_joint(prior_mu, prior_sigma)\n",
    "prior_hyper.shape"
   ]
  },
  {
   "cell_type": "markdown",
   "metadata": {},
   "source": [
    "Here's what it looks like."
   ]
  },
  {
   "cell_type": "code",
   "execution_count": 22,
   "metadata": {},
   "outputs": [
    {
     "data": {
      "image/png": "[encoded data removed]",
      "text/plain": [
       "<Figure size 432x288 with 1 Axes>"
      ]
     },
     "metadata": {
      "needs_background": "light"
     },
     "output_type": "display_data"
    }
   ],
   "source": [
    "import pandas as pd\n",
    "from utils import plot_contour\n",
    "\n",
    "plot_contour(pd.DataFrame(prior_hyper, index=mus, columns=sigmas))\n",
    "decorate(title=\"Joint prior of mu and sigma\")"
   ]
  },
  {
   "cell_type": "markdown",
   "metadata": {},
   "source": [
    "## Joint prior of hyperparameters and x\n",
    "\n",
    "Now we're ready to lay out the grid for x, which is the proportion we'll estimate for each hospital."
   ]
  },
  {
   "cell_type": "code",
   "execution_count": 23,
   "metadata": {},
   "outputs": [],
   "source": [
    "xs = np.linspace(0.01, 0.99, 295)\n",
    "M, S, X = np.meshgrid(mus, sigmas, xs, indexing='ij')"
   ]
  },
  {
   "cell_type": "markdown",
   "metadata": {},
   "source": [
    "For each pair of hyperparameters, we'll compute the distribution of `x`."
   ]
  },
  {
   "cell_type": "code",
   "execution_count": 24,
   "metadata": {},
   "outputs": [
    {
     "data": {
      "text/plain": [
       "-6.440927791118156e-10"
      ]
     },
     "execution_count": 24,
     "metadata": {},
     "output_type": "execute_result"
    }
   ],
   "source": [
    "from scipy.special import logit\n",
    "\n",
    "LO = logit(X)\n",
    "LO.sum()"
   ]
  },
  {
   "cell_type": "code",
   "execution_count": 25,
   "metadata": {},
   "outputs": [
    {
     "name": "stdout",
     "output_type": "stream",
     "text": [
      "CPU times: user 66 ms, sys: 24.8 ms, total: 90.8 ms\n",
      "Wall time: 89.2 ms\n"
     ]
    },
    {
     "data": {
      "text/plain": [
       "214125.5678798693"
      ]
     },
     "execution_count": 25,
     "metadata": {},
     "output_type": "execute_result"
    }
   ],
   "source": [
    "from scipy.stats import norm\n",
    "\n",
    "%time normpdf = norm.pdf(LO, M, S)\n",
    "normpdf.sum()"
   ]
  },
  {
   "cell_type": "markdown",
   "metadata": {},
   "source": [
    "We can speed this up by computing skipping the terms that don't depend on x"
   ]
  },
  {
   "cell_type": "code",
   "execution_count": 26,
   "metadata": {},
   "outputs": [
    {
     "name": "stdout",
     "output_type": "stream",
     "text": [
      "CPU times: user 26.7 ms, sys: 12.3 ms, total: 39 ms\n",
      "Wall time: 37.3 ms\n"
     ]
    }
   ],
   "source": [
    "%%time\n",
    "\n",
    "z = (LO-M) / S\n",
    "normpdf = np.exp(-z**2/2)"
   ]
  },
  {
   "cell_type": "markdown",
   "metadata": {},
   "source": [
    "Now we need to normalize each distribution of `x`."
   ]
  },
  {
   "cell_type": "code",
   "execution_count": 27,
   "metadata": {},
   "outputs": [
    {
     "data": {
      "text/plain": [
       "953896.8970558237"
      ]
     },
     "execution_count": 27,
     "metadata": {},
     "output_type": "execute_result"
    }
   ],
   "source": [
    "totals = normpdf.sum(axis=2)\n",
    "totals.sum()"
   ]
  },
  {
   "cell_type": "code",
   "execution_count": 28,
   "metadata": {},
   "outputs": [
    {
     "data": {
      "text/plain": [
       "9083.999999999998"
      ]
     },
     "execution_count": 28,
     "metadata": {},
     "output_type": "execute_result"
    }
   ],
   "source": [
    "shape = totals.shape + (1,)\n",
    "totals = totals.reshape(shape)\n",
    "\n",
    "out = np.zeros_like(normpdf)\n",
    "normpdf = np.divide(normpdf, totals,\n",
    "                    out=out, where=(totals!=0))\n",
    "normpdf.sum()"
   ]
  },
  {
   "cell_type": "markdown",
   "metadata": {},
   "source": [
    "The result is an array that contains the distribution of `x` for each pair of hyperparameters.\n",
    "\n",
    "Now, to get the prior distribution, we multiply through by the joint distribution of the hyperparameters."
   ]
  },
  {
   "cell_type": "code",
   "execution_count": 29,
   "metadata": {},
   "outputs": [],
   "source": [
    "def make_prior(hyper):\n",
    "\n",
    "    # reshape hyper so we can multiply along axis 0\n",
    "    shape = hyper.shape + (1,)\n",
    "    prior = normpdf * hyper.reshape(shape)\n",
    "\n",
    "    return prior"
   ]
  },
  {
   "cell_type": "code",
   "execution_count": 30,
   "metadata": {},
   "outputs": [
    {
     "name": "stdout",
     "output_type": "stream",
     "text": [
      "CPU times: user 6.61 ms, sys: 954 µs, total: 7.57 ms\n",
      "Wall time: 6.49 ms\n"
     ]
    },
    {
     "data": {
      "text/plain": [
       "0.999937781278039"
      ]
     },
     "execution_count": 30,
     "metadata": {},
     "output_type": "execute_result"
    }
   ],
   "source": [
    "%time prior = make_prior(prior_hyper)\n",
    "prior.sum()"
   ]
  },
  {
   "cell_type": "markdown",
   "metadata": {},
   "source": [
    "The result is a 3-D array that represents the joint prior distribution of `mu`, `sigma`, and `x`.\n",
    "\n",
    "To check that it is correct, I'll extract the marginal distributions and compare them to the priors."
   ]
  },
  {
   "cell_type": "code",
   "execution_count": 31,
   "metadata": {},
   "outputs": [],
   "source": [
    "def marginal(joint, axis):\n",
    "    axes = [i for i in range(3) if i != axis]\n",
    "    return joint.sum(axis=tuple(axes))"
   ]
  },
  {
   "cell_type": "code",
   "execution_count": 32,
   "metadata": {},
   "outputs": [
    {
     "data": {
      "image/png": "[encoded data removed]",
      "text/plain": [
       "<Figure size 432x288 with 1 Axes>"
      ]
     },
     "metadata": {
      "needs_background": "light"
     },
     "output_type": "display_data"
    }
   ],
   "source": [
    "prior_mu.plot()\n",
    "marginal_mu = Pmf(marginal(prior, 0), mus)\n",
    "marginal_mu.plot()\n",
    "decorate(title='Checking the marginal distribution of mu')"
   ]
  },
  {
   "cell_type": "code",
   "execution_count": null,
   "metadata": {},
   "outputs": [],
   "source": [
    "prior_sigma.plot()\n",
    "marginal_sigma = Pmf(marginal(prior, 1), sigmas)\n",
    "marginal_sigma.plot()\n",
    "decorate(title='Checking the marginal distribution of sigma')"
   ]
  },
  {
   "cell_type": "markdown",
   "metadata": {},
   "source": [
    "We didn't compute the prior distribution of `x` explicitly; it follows from the distribution of the hyperparameters. But we can extract the prior marginal of `x` from the joint prior."
   ]
  },
  {
   "cell_type": "code",
   "execution_count": null,
   "metadata": {},
   "outputs": [],
   "source": [
    "marginal_x = Pmf(marginal(prior, 2), xs)\n",
    "marginal_x.plot()\n",
    "decorate(title='Checking the marginal distribution of x',\n",
    "         ylim=[0, np.max(marginal_x) * 1.05])"
   ]
  },
  {
   "cell_type": "markdown",
   "metadata": {},
   "source": [
    "And compare it to the prior sample from PyMC."
   ]
  },
  {
   "cell_type": "code",
   "execution_count": null,
   "metadata": {},
   "outputs": [],
   "source": [
    "pred_xs = pred['xs'].transpose()\n",
    "pred_xs.shape"
   ]
  },
  {
   "cell_type": "code",
   "execution_count": null,
   "metadata": {},
   "outputs": [],
   "source": [
    "compare_cdf(marginal_x, pred_xs[0])\n",
    "decorate(title='Prior distribution of x')"
   ]
  },
  {
   "cell_type": "markdown",
   "metadata": {},
   "source": [
    "TODO: Not quite..."
   ]
  },
  {
   "cell_type": "markdown",
   "metadata": {},
   "source": [
    "In addition to the marginals, we'll also find it useful to extract the joint marginal distribution of the hyperparameters."
   ]
  },
  {
   "cell_type": "code",
   "execution_count": null,
   "metadata": {},
   "outputs": [],
   "source": [
    "def get_hyper(joint):\n",
    "    return joint.sum(axis=2)"
   ]
  },
  {
   "cell_type": "code",
   "execution_count": null,
   "metadata": {},
   "outputs": [],
   "source": [
    "hyper = get_hyper(prior)"
   ]
  },
  {
   "cell_type": "code",
   "execution_count": null,
   "metadata": {},
   "outputs": [],
   "source": [
    "plot_contour(pd.DataFrame(hyper, \n",
    "                          index=mus, \n",
    "                          columns=sigmas))\n",
    "decorate(title=\"Joint prior of mu and sigma\")"
   ]
  },
  {
   "cell_type": "markdown",
   "metadata": {},
   "source": [
    "## The Update\n",
    "\n",
    "The likelihood of the data only depends on `x`, so we can compute it like this."
   ]
  },
  {
   "cell_type": "code",
   "execution_count": null,
   "metadata": {},
   "outputs": [],
   "source": [
    "from scipy.stats import binom\n",
    "\n",
    "data_k = data_ks[0]\n",
    "data_n = data_ns[0]\n",
    "\n",
    "like_x = binom.pmf(data_k, data_n, xs)\n",
    "like_x.shape"
   ]
  },
  {
   "cell_type": "code",
   "execution_count": null,
   "metadata": {},
   "outputs": [],
   "source": [
    "plt.plot(xs, like_x)\n",
    "decorate(title='Likelihood of the data')"
   ]
  },
  {
   "cell_type": "markdown",
   "metadata": {},
   "source": [
    "And here's the update."
   ]
  },
  {
   "cell_type": "code",
   "execution_count": null,
   "metadata": {},
   "outputs": [],
   "source": [
    "def update(prior, data):\n",
    "    n, k = data\n",
    "    like_x = binom.pmf(k, n, xs)\n",
    "    posterior = prior * like_x\n",
    "    posterior /= posterior.sum()\n",
    "    return posterior"
   ]
  },
  {
   "cell_type": "code",
   "execution_count": null,
   "metadata": {},
   "outputs": [],
   "source": [
    "data = data_n, data_k\n",
    "%time posterior = update(prior, data)"
   ]
  },
  {
   "cell_type": "markdown",
   "metadata": {},
   "source": [
    "## Serial updates\n",
    "\n",
    "At this point we can do an update based on a single hospital, but how do we update based on all of the hospitals.\n",
    "\n",
    "As a step toward the right answer, I'll start with a wrong answer, which is to do the updates in series.\n",
    "\n",
    "After each update, we extract the posterior distribution of the hyperparameters and use it to create the prior for the next update.\n",
    "\n",
    "At the end, the posterior distribution of hyperparameters is correct, and the marginal posterior of `x` for the *last* hospital is correct, but the other marginals are wrong because they do not take into account data from subsequent hospitals."
   ]
  },
  {
   "cell_type": "code",
   "execution_count": null,
   "metadata": {},
   "outputs": [],
   "source": [
    "def multiple_updates(prior, ns, ks):\n",
    "    for data in zip(ns, ks):\n",
    "        print(data)\n",
    "        posterior = update(prior, data)\n",
    "        hyper = get_hyper(posterior)\n",
    "        prior = make_prior(hyper)\n",
    "    return posterior"
   ]
  },
  {
   "cell_type": "code",
   "execution_count": null,
   "metadata": {},
   "outputs": [],
   "source": [
    "%time posterior = multiple_updates(prior, data_ns, data_ks)"
   ]
  },
  {
   "cell_type": "markdown",
   "metadata": {},
   "source": [
    "Here are the posterior distributions of the hyperparameters, compared to the results from PyMC."
   ]
  },
  {
   "cell_type": "code",
   "execution_count": null,
   "metadata": {},
   "outputs": [],
   "source": [
    "marginal_mu = Pmf(marginal(posterior, 0), mus)\n",
    "compare_cdf(marginal_mu, trace['mu'])"
   ]
  },
  {
   "cell_type": "code",
   "execution_count": null,
   "metadata": {},
   "outputs": [],
   "source": [
    "marginal_sigma = Pmf(marginal(posterior, 1), sigmas)\n",
    "compare_cdf(marginal_sigma, trace['sigma'])"
   ]
  },
  {
   "cell_type": "code",
   "execution_count": null,
   "metadata": {},
   "outputs": [],
   "source": [
    "marginal_x = Pmf(marginal(posterior, 2), xs)\n",
    "compare_cdf(marginal_x, trace_xs[-1])"
   ]
  },
  {
   "cell_type": "markdown",
   "metadata": {},
   "source": [
    "## Parallel updates\n",
    "\n",
    "Doing serial updates is not quite right, but it gives us an insight.\n",
    "\n",
    "Suppose we start with a uniform distribution for the hyperparameters and do an update with data from one hospital. If we extract the posterior joint distribution of the hyperparameters, what we get is the likelihood function associated with one dataset.\n",
    "\n",
    "The following function computes these likelihood functions and saves them in an array called `hyper_likelihood`."
   ]
  },
  {
   "cell_type": "code",
   "execution_count": null,
   "metadata": {},
   "outputs": [],
   "source": [
    "def compute_hyper_likelihood(ns, ks):\n",
    "    shape = ns.shape + mus.shape + sigmas.shape\n",
    "    hyper_likelihood = np.empty(shape)\n",
    "    \n",
    "    for i, data in enumerate(zip(ns, ks)):\n",
    "        print(data)\n",
    "        n, k = data\n",
    "        like_x = binom.pmf(k, n, xs)\n",
    "        posterior = normpdf * like_x\n",
    "        hyper_likelihood[i] = get_hyper(posterior)\n",
    "    return hyper_likelihood"
   ]
  },
  {
   "cell_type": "code",
   "execution_count": null,
   "metadata": {},
   "outputs": [],
   "source": [
    "%time hyper_likelihood = compute_hyper_likelihood(data_ns, data_ks)"
   ]
  },
  {
   "cell_type": "markdown",
   "metadata": {},
   "source": [
    "We can multiply this out to get the product of the likelihoods."
   ]
  },
  {
   "cell_type": "code",
   "execution_count": null,
   "metadata": {},
   "outputs": [],
   "source": [
    "%time like_hyper_all = hyper_likelihood.prod(axis=0)\n",
    "like_hyper_all.sum()"
   ]
  },
  {
   "cell_type": "markdown",
   "metadata": {},
   "source": [
    "This is useful because it provides an efficient way to compute the marginal posterior distribution of `x` for any hospital.\n",
    "Here's an example."
   ]
  },
  {
   "cell_type": "code",
   "execution_count": null,
   "metadata": {},
   "outputs": [],
   "source": [
    "i = 3\n",
    "data = data_ns[i], data_ks[i]\n",
    "data"
   ]
  },
  {
   "cell_type": "markdown",
   "metadata": {},
   "source": [
    "Suppose we did the updates serially and saved this hospital for last.\n",
    "The prior distribution for the final update would reflect the updates from all previous hospitals, which we can compute by dividing out `hyper_likelihood[i]`."
   ]
  },
  {
   "cell_type": "code",
   "execution_count": null,
   "metadata": {},
   "outputs": [],
   "source": [
    "def divide(x, y):\n",
    "    out = np.zeros_like(x)\n",
    "    return np.divide(x, y, out=out, where=(y!=0))    "
   ]
  },
  {
   "cell_type": "code",
   "execution_count": null,
   "metadata": {},
   "outputs": [],
   "source": [
    "out = np.zeros_like(prior_hyper)\n",
    "%time hyper_i = divide(prior_hyper * like_hyper_all, hyper_likelihood[i])\n",
    "hyper_i.sum()"
   ]
  },
  {
   "cell_type": "code",
   "execution_count": null,
   "metadata": {},
   "outputs": [],
   "source": [
    "prior_i = make_prior(hyper_i) "
   ]
  },
  {
   "cell_type": "code",
   "execution_count": null,
   "metadata": {},
   "outputs": [],
   "source": [
    "posterior_i = update(prior_i, data)"
   ]
  },
  {
   "cell_type": "markdown",
   "metadata": {},
   "source": [
    "And we can confirm that the results are similar to the results from PyMC."
   ]
  },
  {
   "cell_type": "code",
   "execution_count": null,
   "metadata": {},
   "outputs": [],
   "source": [
    "marginal_mu = Pmf(marginal(posterior_i, 0), mus)\n",
    "marginal_sigma = Pmf(marginal(posterior_i, 1), sigmas)\n",
    "marginal_x = Pmf(marginal(posterior_i, 2), xs)"
   ]
  },
  {
   "cell_type": "code",
   "execution_count": null,
   "metadata": {},
   "outputs": [],
   "source": [
    "compare_cdf(marginal_mu, trace['mu'])"
   ]
  },
  {
   "cell_type": "code",
   "execution_count": null,
   "metadata": {},
   "outputs": [],
   "source": [
    "compare_cdf(marginal_sigma, trace['sigma'])"
   ]
  },
  {
   "cell_type": "code",
   "execution_count": null,
   "metadata": {},
   "outputs": [],
   "source": [
    "compare_cdf(marginal_x, trace_xs[i])"
   ]
  },
  {
   "cell_type": "markdown",
   "metadata": {},
   "source": [
    "## Compute all marginals\n",
    "\n",
    "The following function computes the marginals for all hospitals and stores the results in an array."
   ]
  },
  {
   "cell_type": "code",
   "execution_count": null,
   "metadata": {},
   "outputs": [],
   "source": [
    "def compute_all_marginals(ns, ks):\n",
    "    shape = len(ns), len(xs)\n",
    "    marginal_xs = np.zeros(shape)\n",
    "    numerator = prior_hyper * like_hyper_all\n",
    "    \n",
    "    for i, data in enumerate(zip(ns, ks)):\n",
    "        hyper_i = divide(numerator, hyper_likelihood[i])\n",
    "        prior_i = make_prior(hyper_i) \n",
    "        posterior_i = update(prior_i, data)\n",
    "        marginal_xs[i] = marginal(posterior_i, 2)\n",
    "        \n",
    "    return marginal_xs"
   ]
  },
  {
   "cell_type": "code",
   "execution_count": null,
   "metadata": {},
   "outputs": [],
   "source": [
    "%time marginal_xs = compute_all_marginals(data_ns, data_ks)"
   ]
  },
  {
   "cell_type": "markdown",
   "metadata": {},
   "source": [
    "Here's what the results look like, compared to the results from PyMC."
   ]
  },
  {
   "cell_type": "code",
   "execution_count": null,
   "metadata": {},
   "outputs": [],
   "source": [
    "for i, ps in enumerate(marginal_xs):\n",
    "    pmf = Pmf(ps, xs)\n",
    "    plt.figure()\n",
    "    compare_cdf(pmf, trace_xs[i])\n",
    "    decorate(title=f'Posterior marginal of x for Hospital {i}',\n",
    "             xlabel='Death rate',\n",
    "             ylabel='CDF',\n",
    "             xlim=[trace_xs[i].min(), trace_xs[i].max()])"
   ]
  },
  {
   "cell_type": "code",
   "execution_count": null,
   "metadata": {},
   "outputs": [],
   "source": [
    "for i, ps in enumerate(marginal_xs):\n",
    "    pmf = Pmf(ps, xs)\n",
    "    diff = abs(pmf.mean() - trace_xs[i].mean()) / pmf.mean()\n",
    "    print(diff * 100)"
   ]
  },
  {
   "cell_type": "code",
   "execution_count": null,
   "metadata": {},
   "outputs": [],
   "source": []
  }
 ],
 "metadata": {
  "celltoolbar": "Tags",
  "kernelspec": {
   "display_name": "Python 3 (ipykernel)",
   "language": "python",
   "name": "python3"
  },
  "language_info": {
   "codemirror_mode": {
    "name": "ipython",
    "version": 3
   },
   "file_extension": ".py",
   "mimetype": "text/x-python",
   "name": "python",
   "nbconvert_exporter": "python",
   "pygments_lexer": "ipython3",
   "version": "3.9.7"
  }
 },
 "nbformat": 4,
 "nbformat_minor": 4
}
