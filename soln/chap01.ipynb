{
 "cells": [
  {
   "cell_type": "markdown",
   "metadata": {},
   "source": [
    "# Probability"
   ]
  },
  {
   "cell_type": "markdown",
   "metadata": {
    "tags": [
     "remove-cell"
    ]
   },
   "source": [
    "Think Bayes, Second Edition\n",
    "\n",
    "Copyright 2020 Allen B. Downey\n",
    "\n",
    "License: [Attribution-NonCommercial-ShareAlike 4.0 International (CC BY-NC-SA 4.0)](https://creativecommons.org/licenses/by-nc-sa/4.0/)"
   ]
  },
  {
   "cell_type": "markdown",
   "metadata": {},
   "source": [
    "The foundation of Bayesian statistics is Bayes's Theorem, and the foundation of Bayes's Theorem is conditional probability.  \n",
    "\n",
    "In this chapter, we'll start with conditional probability, derive Bayes's Theorem, and demonstrate it using a real dataset.  In the next chapter, we'll use Bayes's Theorem to solve problems related to conditional probability.  In the chapters that follow, we'll make the transition from Bayes's Theorem to Bayesian statistics, and I'll explain the difference."
   ]
  },
  {
   "cell_type": "markdown",
   "metadata": {},
   "source": [
    "## Linda the Banker\n",
    "\n",
    "To introduce conditional probability, I'll use an example from a [famous experiment by Tversky and Kahneman](https://en.wikipedia.org/wiki/Conjunction_fallacy), who posed the following question:\n",
    "\n",
    "> Linda is 31 years old, single, outspoken, and very bright. She majored in philosophy. As a student, she was deeply concerned with issues of discrimination and social justice, and also participated in anti-nuclear demonstrations.  Which is more probable?\n",
    "> 1. Linda is a bank teller.\n",
    "> 2. Linda is a bank teller and is active in the feminist movement.\n",
    "\n",
    "Many people choose the second answer, presumably because it seems more consistent with the description.  It seems uncharacteristic if Linda is *just* a bank teller; it seems more consistent if she is also a feminist."
   ]
  },
  {
   "cell_type": "markdown",
   "metadata": {},
   "source": [
    "But the second answer cannot be \"more probable\", as the question asks.  Suppose we find 1000 people who fit Linda's description and 10 of them work as bank tellers.  How many of them are also feminists?  At most, all 10 of them are; in that case, the two options are *equally* probable.  If fewer than 10 are, the second option is *less* probable.  But there is no way the second option can be *more* probable.\n",
    "\n",
    "If you were inclined to choose the second option, you are in good company.  The biologist [Stephen J. Gould wrote](https://doi.org/10.1080/09332480.1989.10554932) :\n",
    "\n",
    "> I am particularly fond of this example because I know that the [second] statement is least probable, yet a little [homunculus](https://en.wikipedia.org/wiki/Homunculus_argument) in my head continues to jump up and down, shouting at me, \"but she can't just be a bank teller; read the description.\"\n",
    "\n",
    "If the little person in your head is still unhappy, maybe this chapter will help."
   ]
  },
  {
   "cell_type": "markdown",
   "metadata": {},
   "source": [
    "## Probability\n",
    "\n",
    "At this point I should provide a definition of \"probability\", but that [turns out to be surprisingly difficult](https://en.wikipedia.org/wiki/Probability_interpretations).  To avoid getting stuck before we start, we will use a simple definition for now and refine it later: A **probability** is a fraction of a finite set.\n",
    "\n",
    "For example, if we survey 1000 people, and 20 of them are bank tellers, the fraction that work as bank tellers is 0.02 or 2\\%.  If we choose a person from this population at random, the probability that they are a bank teller is 2\\%.\n",
    "By \"at random\" I mean that every person in the dataset has the same chance of being chosen.\n",
    "\n",
    "With this definition and an appropriate dataset, we can compute probabilities by counting.\n",
    "To demonstrate, I'll use data from the [General Social Survey](http://gss.norc.org/) (GSS).  "
   ]
  },
  {
   "cell_type": "markdown",
   "metadata": {
    "tags": [
     "remove-cell"
    ]
   },
   "source": [
    "The following cell downloads the data."
   ]
  },
  {
   "cell_type": "code",
   "execution_count": 1,
   "metadata": {
    "execution": {
     "iopub.execute_input": "2021-04-12T15:01:09.858017Z",
     "iopub.status.busy": "2021-04-12T15:01:09.853314Z",
     "iopub.status.idle": "2021-04-12T15:01:09.860922Z",
     "shell.execute_reply": "2021-04-12T15:01:09.861374Z"
    },
    "tags": [
     "remove-cell"
    ]
   },
   "outputs": [],
   "source": [
    "# Load the data file\n",
    "\n",
    "import os\n",
    "\n",
    "if not os.path.exists('gss_bayes.csv'):\n",
    "    !wget https://github.com/AllenDowney/BiteSizeBayes/raw/master/gss_bayes.csv"
   ]
  },
  {
   "cell_type": "markdown",
   "metadata": {},
   "source": [
    "I'll use Pandas to read the data and store it in a `DataFrame`."
   ]
  },
  {
   "cell_type": "code",
   "execution_count": 2,
   "metadata": {
    "execution": {
     "iopub.execute_input": "2021-04-12T15:01:09.865177Z",
     "iopub.status.busy": "2021-04-12T15:01:09.864703Z",
     "iopub.status.idle": "2021-04-12T15:01:10.145500Z",
     "shell.execute_reply": "2021-04-12T15:01:10.145976Z"
    }
   },
   "outputs": [
    {
     "data": {
      "text/html": [
       "<div>\n",
       "<style scoped>\n",
       "    .dataframe tbody tr th:only-of-type {\n",
       "        vertical-align: middle;\n",
       "    }\n",
       "\n",
       "    .dataframe tbody tr th {\n",
       "        vertical-align: top;\n",
       "    }\n",
       "\n",
       "    .dataframe thead th {\n",
       "        text-align: right;\n",
       "    }\n",
       "</style>\n",
       "<table border=\"1\" class=\"dataframe\">\n",
       "  <thead>\n",
       "    <tr style=\"text-align: right;\">\n",
       "      <th></th>\n",
       "      <th>year</th>\n",
       "      <th>age</th>\n",
       "      <th>sex</th>\n",
       "      <th>polviews</th>\n",
       "      <th>partyid</th>\n",
       "      <th>indus10</th>\n",
       "    </tr>\n",
       "    <tr>\n",
       "      <th>caseid</th>\n",
       "      <th></th>\n",
       "      <th></th>\n",
       "      <th></th>\n",
       "      <th></th>\n",
       "      <th></th>\n",
       "      <th></th>\n",
       "    </tr>\n",
       "  </thead>\n",
       "  <tbody>\n",
       "    <tr>\n",
       "      <th>1</th>\n",
       "      <td>1974</td>\n",
       "      <td>21.0</td>\n",
       "      <td>1</td>\n",
       "      <td>4.0</td>\n",
       "      <td>2.0</td>\n",
       "      <td>4970.0</td>\n",
       "    </tr>\n",
       "    <tr>\n",
       "      <th>2</th>\n",
       "      <td>1974</td>\n",
       "      <td>41.0</td>\n",
       "      <td>1</td>\n",
       "      <td>5.0</td>\n",
       "      <td>0.0</td>\n",
       "      <td>9160.0</td>\n",
       "    </tr>\n",
       "    <tr>\n",
       "      <th>5</th>\n",
       "      <td>1974</td>\n",
       "      <td>58.0</td>\n",
       "      <td>2</td>\n",
       "      <td>6.0</td>\n",
       "      <td>1.0</td>\n",
       "      <td>2670.0</td>\n",
       "    </tr>\n",
       "    <tr>\n",
       "      <th>6</th>\n",
       "      <td>1974</td>\n",
       "      <td>30.0</td>\n",
       "      <td>1</td>\n",
       "      <td>5.0</td>\n",
       "      <td>4.0</td>\n",
       "      <td>6870.0</td>\n",
       "    </tr>\n",
       "    <tr>\n",
       "      <th>7</th>\n",
       "      <td>1974</td>\n",
       "      <td>48.0</td>\n",
       "      <td>1</td>\n",
       "      <td>5.0</td>\n",
       "      <td>4.0</td>\n",
       "      <td>7860.0</td>\n",
       "    </tr>\n",
       "  </tbody>\n",
       "</table>\n",
       "</div>"
      ],
      "text/plain": [
       "        year   age  sex  polviews  partyid  indus10\n",
       "caseid                                             \n",
       "1       1974  21.0    1       4.0      2.0   4970.0\n",
       "2       1974  41.0    1       5.0      0.0   9160.0\n",
       "5       1974  58.0    2       6.0      1.0   2670.0\n",
       "6       1974  30.0    1       5.0      4.0   6870.0\n",
       "7       1974  48.0    1       5.0      4.0   7860.0"
      ]
     },
     "execution_count": 2,
     "metadata": {},
     "output_type": "execute_result"
    }
   ],
   "source": [
    "import pandas as pd\n",
    "\n",
    "gss = pd.read_csv('gss_bayes.csv', index_col=0)\n",
    "gss.head()"
   ]
  },
  {
   "cell_type": "markdown",
   "metadata": {},
   "source": [
    "The `DataFrame` has one row for each person surveyed and one column for each variable I selected.\n",
    "\n",
    "The columns are\n",
    "\n",
    "* `caseid`: Respondent id (which is the index of the table).\n",
    "\n",
    "* `year`: Year when the respondent was surveyed.\n",
    "\n",
    "* `age`: Respondent's age when surveyed.\n",
    "\n",
    "* `sex`: Male or female.\n",
    "\n",
    "* `polviews`: Political views on a range from liberal to conservative.\n",
    "\n",
    "* `partyid`: Political party affiliation, Democrat, Independent, or Republican.\n",
    "\n",
    "* `indus10`: [Code](https://www.census.gov/cgi-bin/sssd/naics/naicsrch?chart=2007) for the industry the respondent works in.\n",
    "\n",
    "Let's look at these variables in more detail, starting with `indus10`."
   ]
  },
  {
   "cell_type": "markdown",
   "metadata": {},
   "source": [
    "## Fraction of Bankers\n",
    "\n",
    "The code for \"Banking and related activities\" is 6870, so we can select bankers like this:"
   ]
  },
  {
   "cell_type": "code",
   "execution_count": 3,
   "metadata": {
    "execution": {
     "iopub.execute_input": "2021-04-12T15:01:10.150012Z",
     "iopub.status.busy": "2021-04-12T15:01:10.149313Z",
     "iopub.status.idle": "2021-04-12T15:01:10.158452Z",
     "shell.execute_reply": "2021-04-12T15:01:10.158923Z"
    }
   },
   "outputs": [
    {
     "data": {
      "text/plain": [
       "caseid\n",
       "1    False\n",
       "2    False\n",
       "5    False\n",
       "6     True\n",
       "7    False\n",
       "Name: indus10, dtype: bool"
      ]
     },
     "execution_count": 3,
     "metadata": {},
     "output_type": "execute_result"
    }
   ],
   "source": [
    "banker = (gss['indus10'] == 6870)\n",
    "banker.head()"
   ]
  },
  {
   "cell_type": "markdown",
   "metadata": {},
   "source": [
    "The result is a Pandas `Series` that contains the Boolean values `True` and `False`.\n",
    "\n",
    "If we use the `sum` function on this `Series`, it treats `True` as 1 and `False` as 0, so the total is the number of bankers."
   ]
  },
  {
   "cell_type": "code",
   "execution_count": 4,
   "metadata": {
    "execution": {
     "iopub.execute_input": "2021-04-12T15:01:10.162966Z",
     "iopub.status.busy": "2021-04-12T15:01:10.162399Z",
     "iopub.status.idle": "2021-04-12T15:01:10.164878Z",
     "shell.execute_reply": "2021-04-12T15:01:10.165242Z"
    }
   },
   "outputs": [
    {
     "data": {
      "text/plain": [
       "728"
      ]
     },
     "execution_count": 4,
     "metadata": {},
     "output_type": "execute_result"
    }
   ],
   "source": [
    "banker.sum()"
   ]
  },
  {
   "cell_type": "markdown",
   "metadata": {},
   "source": [
    "In this dataset, there are 728 bankers.\n",
    "\n",
    "To compute the *fraction* of bankers, we can use the `mean` function, which computes the fraction of `True` values in the `Series`:"
   ]
  },
  {
   "cell_type": "code",
   "execution_count": 5,
   "metadata": {
    "execution": {
     "iopub.execute_input": "2021-04-12T15:01:10.168689Z",
     "iopub.status.busy": "2021-04-12T15:01:10.168125Z",
     "iopub.status.idle": "2021-04-12T15:01:10.172059Z",
     "shell.execute_reply": "2021-04-12T15:01:10.171599Z"
    }
   },
   "outputs": [
    {
     "data": {
      "text/plain": [
       "0.014769730168391155"
      ]
     },
     "execution_count": 5,
     "metadata": {},
     "output_type": "execute_result"
    }
   ],
   "source": [
    "banker.mean()"
   ]
  },
  {
   "cell_type": "markdown",
   "metadata": {},
   "source": [
    "About 1.5% of the respondents work in banking, so if we choose a random person from the dataset, the probability they are a banker is about 1.5%."
   ]
  },
  {
   "cell_type": "markdown",
   "metadata": {},
   "source": [
    "## The Probability Function\n",
    "\n",
    "I'll put the code from the previous section in a function that takes a Boolean series and returns a probability:"
   ]
  },
  {
   "cell_type": "code",
   "execution_count": 6,
   "metadata": {
    "execution": {
     "iopub.execute_input": "2021-04-12T15:01:10.176246Z",
     "iopub.status.busy": "2021-04-12T15:01:10.175415Z",
     "iopub.status.idle": "2021-04-12T15:01:10.177969Z",
     "shell.execute_reply": "2021-04-12T15:01:10.177351Z"
    }
   },
   "outputs": [],
   "source": [
    "def prob(A):\n",
    "    \"\"\"Computes the probability of a proposition, A.\"\"\"    \n",
    "    return A.mean()"
   ]
  },
  {
   "cell_type": "markdown",
   "metadata": {},
   "source": [
    "So we can compute the fraction of bankers like this:"
   ]
  },
  {
   "cell_type": "code",
   "execution_count": 7,
   "metadata": {
    "execution": {
     "iopub.execute_input": "2021-04-12T15:01:10.182286Z",
     "iopub.status.busy": "2021-04-12T15:01:10.181512Z",
     "iopub.status.idle": "2021-04-12T15:01:10.184657Z",
     "shell.execute_reply": "2021-04-12T15:01:10.184127Z"
    }
   },
   "outputs": [
    {
     "data": {
      "text/plain": [
       "0.014769730168391155"
      ]
     },
     "execution_count": 7,
     "metadata": {},
     "output_type": "execute_result"
    }
   ],
   "source": [
    "prob(banker)"
   ]
  },
  {
   "cell_type": "markdown",
   "metadata": {},
   "source": [
    "Now let's look at another variable in this dataset.\n",
    "The values of the column `sex` are encoded like this:\n",
    "\n",
    "```\n",
    "1    Male\n",
    "2    Female\n",
    "```\n",
    "\n",
    "So we can make a Boolean series that is `True` for female respondents and `False` otherwise."
   ]
  },
  {
   "cell_type": "code",
   "execution_count": 8,
   "metadata": {
    "execution": {
     "iopub.execute_input": "2021-04-12T15:01:10.191642Z",
     "iopub.status.busy": "2021-04-12T15:01:10.191066Z",
     "iopub.status.idle": "2021-04-12T15:01:10.193107Z",
     "shell.execute_reply": "2021-04-12T15:01:10.193588Z"
    }
   },
   "outputs": [],
   "source": [
    "female = (gss['sex'] == 2)"
   ]
  },
  {
   "cell_type": "markdown",
   "metadata": {},
   "source": [
    "And use it to compute the fraction of respondents who are women."
   ]
  },
  {
   "cell_type": "code",
   "execution_count": 9,
   "metadata": {
    "execution": {
     "iopub.execute_input": "2021-04-12T15:01:10.197934Z",
     "iopub.status.busy": "2021-04-12T15:01:10.197311Z",
     "iopub.status.idle": "2021-04-12T15:01:10.200188Z",
     "shell.execute_reply": "2021-04-12T15:01:10.199796Z"
    }
   },
   "outputs": [
    {
     "data": {
      "text/plain": [
       "0.5378575776019476"
      ]
     },
     "execution_count": 9,
     "metadata": {},
     "output_type": "execute_result"
    }
   ],
   "source": [
    "prob(female)"
   ]
  },
  {
   "cell_type": "markdown",
   "metadata": {},
   "source": [
    "The fraction of women in this dataset is higher than in the adult U.S. population because [the GSS does not include people living in institutions](https://gss.norc.org/faq) like prisons and military housing, and those populations are more likely to be male."
   ]
  },
  {
   "cell_type": "markdown",
   "metadata": {},
   "source": [
    "## Political Views and Parties\n",
    "\n",
    "The other variables we'll consider are `polviews`, which describes the political views of the respondents, and `partyid`, which describes their affiliation with a political party.\n",
    "\n",
    "The values of `polviews` are on a seven-point scale:\n",
    "\n",
    "```\n",
    "1\tExtremely liberal\n",
    "2\tLiberal\n",
    "3\tSlightly liberal\n",
    "4\tModerate\n",
    "5\tSlightly conservative\n",
    "6\tConservative\n",
    "7\tExtremely conservative\n",
    "```\n",
    "\n",
    "I'll define `liberal` to be `True` for anyone whose response is \"Extremely liberal\", \"Liberal\", or \"Slightly liberal\"."
   ]
  },
  {
   "cell_type": "code",
   "execution_count": 10,
   "metadata": {
    "execution": {
     "iopub.execute_input": "2021-04-12T15:01:10.204377Z",
     "iopub.status.busy": "2021-04-12T15:01:10.203852Z",
     "iopub.status.idle": "2021-04-12T15:01:10.205422Z",
     "shell.execute_reply": "2021-04-12T15:01:10.205802Z"
    }
   },
   "outputs": [],
   "source": [
    "liberal = (gss['polviews'] <= 3)"
   ]
  },
  {
   "cell_type": "markdown",
   "metadata": {},
   "source": [
    "Here's the fraction of respondents who are liberal by this definition."
   ]
  },
  {
   "cell_type": "code",
   "execution_count": 11,
   "metadata": {
    "execution": {
     "iopub.execute_input": "2021-04-12T15:01:10.209475Z",
     "iopub.status.busy": "2021-04-12T15:01:10.208955Z",
     "iopub.status.idle": "2021-04-12T15:01:10.211557Z",
     "shell.execute_reply": "2021-04-12T15:01:10.212036Z"
    }
   },
   "outputs": [
    {
     "data": {
      "text/plain": [
       "0.27374721038750255"
      ]
     },
     "execution_count": 11,
     "metadata": {},
     "output_type": "execute_result"
    }
   ],
   "source": [
    "prob(liberal)"
   ]
  },
  {
   "cell_type": "markdown",
   "metadata": {},
   "source": [
    "If we choose a random person in this dataset, the probability they are liberal is about 27%."
   ]
  },
  {
   "cell_type": "markdown",
   "metadata": {},
   "source": [
    "The values of `partyid` are encoded like this:\n",
    "\n",
    "```\n",
    "0\tStrong democrat\n",
    "1\tNot strong democrat\n",
    "2\tIndependent, near democrat\n",
    "3\tIndependent\n",
    "4\tIndependent, near republican\n",
    "5\tNot strong republican\n",
    "6\tStrong republican\n",
    "7\tOther party\n",
    "```\n",
    "\n",
    "I'll define `democrat` to include respondents who chose \"Strong democrat\" or \"Not strong democrat\":"
   ]
  },
  {
   "cell_type": "code",
   "execution_count": 12,
   "metadata": {
    "execution": {
     "iopub.execute_input": "2021-04-12T15:01:10.216831Z",
     "iopub.status.busy": "2021-04-12T15:01:10.215965Z",
     "iopub.status.idle": "2021-04-12T15:01:10.218344Z",
     "shell.execute_reply": "2021-04-12T15:01:10.217832Z"
    }
   },
   "outputs": [],
   "source": [
    "democrat = (gss['partyid'] <= 1)"
   ]
  },
  {
   "cell_type": "markdown",
   "metadata": {},
   "source": [
    "And here's the fraction of respondents who are Democrats, by this definition."
   ]
  },
  {
   "cell_type": "code",
   "execution_count": 13,
   "metadata": {
    "execution": {
     "iopub.execute_input": "2021-04-12T15:01:10.222785Z",
     "iopub.status.busy": "2021-04-12T15:01:10.222168Z",
     "iopub.status.idle": "2021-04-12T15:01:10.225415Z",
     "shell.execute_reply": "2021-04-12T15:01:10.224921Z"
    }
   },
   "outputs": [
    {
     "data": {
      "text/plain": [
       "0.3662609048488537"
      ]
     },
     "execution_count": 13,
     "metadata": {},
     "output_type": "execute_result"
    }
   ],
   "source": [
    "prob(democrat)"
   ]
  },
  {
   "cell_type": "markdown",
   "metadata": {},
   "source": [
    "## Conjunction\n",
    "\n",
    "Now that we have a definition of probability and a function that computes it, let's move on to conjunction.\n",
    "\n",
    "\"Conjunction\" is another name for the logical `and` operation.  If you have two [propositions](https://en.wikipedia.org/wiki/Proposition), `A` and `B`, the conjunction `A and B` is `True` if both `A` and `B` are `True`, and `False` otherwise.\n",
    "\n",
    "If we have two Boolean series, we can use the `&` operator to compute their conjunction.\n",
    "For example, we have already computed the probability that a respondent is a banker."
   ]
  },
  {
   "cell_type": "code",
   "execution_count": 14,
   "metadata": {
    "execution": {
     "iopub.execute_input": "2021-04-12T15:01:10.229763Z",
     "iopub.status.busy": "2021-04-12T15:01:10.229063Z",
     "iopub.status.idle": "2021-04-12T15:01:10.232315Z",
     "shell.execute_reply": "2021-04-12T15:01:10.231846Z"
    }
   },
   "outputs": [
    {
     "data": {
      "text/plain": [
       "0.014769730168391155"
      ]
     },
     "execution_count": 14,
     "metadata": {},
     "output_type": "execute_result"
    }
   ],
   "source": [
    "prob(banker)"
   ]
  },
  {
   "cell_type": "markdown",
   "metadata": {},
   "source": [
    "And the probability that they are a Democrat:"
   ]
  },
  {
   "cell_type": "code",
   "execution_count": 15,
   "metadata": {
    "execution": {
     "iopub.execute_input": "2021-04-12T15:01:10.237245Z",
     "iopub.status.busy": "2021-04-12T15:01:10.236363Z",
     "iopub.status.idle": "2021-04-12T15:01:10.239549Z",
     "shell.execute_reply": "2021-04-12T15:01:10.239130Z"
    }
   },
   "outputs": [
    {
     "data": {
      "text/plain": [
       "0.3662609048488537"
      ]
     },
     "execution_count": 15,
     "metadata": {},
     "output_type": "execute_result"
    }
   ],
   "source": [
    "prob(democrat)"
   ]
  },
  {
   "cell_type": "markdown",
   "metadata": {},
   "source": [
    "Now we can compute the probability that a respondent is a banker *and* a Democrat:"
   ]
  },
  {
   "cell_type": "code",
   "execution_count": 16,
   "metadata": {
    "execution": {
     "iopub.execute_input": "2021-04-12T15:01:10.242937Z",
     "iopub.status.busy": "2021-04-12T15:01:10.242495Z",
     "iopub.status.idle": "2021-04-12T15:01:10.246000Z",
     "shell.execute_reply": "2021-04-12T15:01:10.245537Z"
    }
   },
   "outputs": [
    {
     "data": {
      "text/plain": [
       "0.004686548995739501"
      ]
     },
     "execution_count": 16,
     "metadata": {},
     "output_type": "execute_result"
    }
   ],
   "source": [
    "prob(banker & democrat)"
   ]
  },
  {
   "cell_type": "markdown",
   "metadata": {},
   "source": [
    "As we should expect, `prob(banker & democrat)` is less than `prob(banker)`, because not all bankers are Democrats.\n",
    "\n",
    "We expect conjunction to be commutative; that is, `A & B` should be the same as `B & A`.  To check, we can also compute `prob(democrat & banker)`:"
   ]
  },
  {
   "cell_type": "code",
   "execution_count": 17,
   "metadata": {
    "execution": {
     "iopub.execute_input": "2021-04-12T15:01:10.249610Z",
     "iopub.status.busy": "2021-04-12T15:01:10.248831Z",
     "iopub.status.idle": "2021-04-12T15:01:10.253149Z",
     "shell.execute_reply": "2021-04-12T15:01:10.252536Z"
    }
   },
   "outputs": [
    {
     "data": {
      "text/plain": [
       "0.004686548995739501"
      ]
     },
     "execution_count": 17,
     "metadata": {},
     "output_type": "execute_result"
    }
   ],
   "source": [
    "prob(democrat & banker)"
   ]
  },
  {
   "cell_type": "markdown",
   "metadata": {},
   "source": [
    "As expected, they are the same."
   ]
  },
  {
   "cell_type": "markdown",
   "metadata": {},
   "source": [
    "## Conditional Probability\n",
    "\n",
    "Conditional probability is a probability that depends on a condition, but that might not be the most helpful definition.  Here are some examples:\n",
    "\n",
    "* What is the probability that a respondent is a Democrat, given that they are liberal?\n",
    "\n",
    "* What is the probability that a respondent is female, given that they are a banker?\n",
    "\n",
    "* What is the probability that a respondent is liberal, given that they are female?\n",
    "\n",
    "Let's start with the first one, which we can interpret like this: \"Of all the respondents who are liberal, what fraction are Democrats?\"\n",
    "\n",
    "We can compute this probability in two steps:\n",
    "\n",
    "1. Select all respondents who are liberal.\n",
    "\n",
    "2. Compute the fraction of the selected respondents who are Democrats.\n",
    "\n",
    "To select liberal respondents, we can use the bracket operator, `[]`, like this:"
   ]
  },
  {
   "cell_type": "code",
   "execution_count": 18,
   "metadata": {
    "execution": {
     "iopub.execute_input": "2021-04-12T15:01:10.256887Z",
     "iopub.status.busy": "2021-04-12T15:01:10.256371Z",
     "iopub.status.idle": "2021-04-12T15:01:10.259351Z",
     "shell.execute_reply": "2021-04-12T15:01:10.258799Z"
    }
   },
   "outputs": [],
   "source": [
    "selected = democrat[liberal]"
   ]
  },
  {
   "cell_type": "markdown",
   "metadata": {},
   "source": [
    "`selected` contains the values of `democrat` for liberal respondents, so `prob(selected)` is the fraction of liberals who are Democrats:"
   ]
  },
  {
   "cell_type": "code",
   "execution_count": 19,
   "metadata": {
    "execution": {
     "iopub.execute_input": "2021-04-12T15:01:10.263246Z",
     "iopub.status.busy": "2021-04-12T15:01:10.262663Z",
     "iopub.status.idle": "2021-04-12T15:01:10.264791Z",
     "shell.execute_reply": "2021-04-12T15:01:10.265144Z"
    }
   },
   "outputs": [
    {
     "data": {
      "text/plain": [
       "0.5206403320240125"
      ]
     },
     "execution_count": 19,
     "metadata": {},
     "output_type": "execute_result"
    }
   ],
   "source": [
    "prob(selected)"
   ]
  },
  {
   "cell_type": "markdown",
   "metadata": {},
   "source": [
    "A little more than half of liberals are Democrats.  If that result is lower than you expected, keep in mind:\n",
    "\n",
    "1. We used a somewhat strict definition of \"Democrat\", excluding Independents who \"lean\" democratic.\n",
    "\n",
    "2. The dataset includes respondents as far back as 1974; in the early part of this interval, there was less alignment between political views and party affiliation, compared to the present.\n",
    "\n",
    "Let's try the second example, \"What is the probability that a respondent is female, given that they are a banker?\"\n",
    "We can interpret that to mean, \"Of all respondents who are bankers, what fraction are female?\"\n",
    "\n",
    "Again, we'll use the bracket operator to select only the bankers and `prob` to compute the fraction that are female."
   ]
  },
  {
   "cell_type": "code",
   "execution_count": 20,
   "metadata": {
    "execution": {
     "iopub.execute_input": "2021-04-12T15:01:10.268552Z",
     "iopub.status.busy": "2021-04-12T15:01:10.268022Z",
     "iopub.status.idle": "2021-04-12T15:01:10.272411Z",
     "shell.execute_reply": "2021-04-12T15:01:10.272854Z"
    }
   },
   "outputs": [
    {
     "data": {
      "text/plain": [
       "0.7706043956043956"
      ]
     },
     "execution_count": 20,
     "metadata": {},
     "output_type": "execute_result"
    }
   ],
   "source": [
    "selected = female[banker]\n",
    "prob(selected)"
   ]
  },
  {
   "cell_type": "markdown",
   "metadata": {},
   "source": [
    "About 77% of the bankers in this dataset are female.\n",
    "\n",
    "Let's wrap this computation in a function.\n",
    "I'll define `conditional` to take two Boolean series, `proposition` and `given`, and compute the conditional probability of `proposition` conditioned on `given`:"
   ]
  },
  {
   "cell_type": "code",
   "execution_count": 21,
   "metadata": {
    "execution": {
     "iopub.execute_input": "2021-04-12T15:01:10.277045Z",
     "iopub.status.busy": "2021-04-12T15:01:10.276220Z",
     "iopub.status.idle": "2021-04-12T15:01:10.279172Z",
     "shell.execute_reply": "2021-04-12T15:01:10.278656Z"
    }
   },
   "outputs": [],
   "source": [
    "def conditional(proposition, given):\n",
    "    \"\"\"Probability of A conditioned on given.\"\"\"\n",
    "    return prob(proposition[given])"
   ]
  },
  {
   "cell_type": "markdown",
   "metadata": {},
   "source": [
    "We can use `conditional` to compute the probability that a respondent is liberal given that they are female."
   ]
  },
  {
   "cell_type": "code",
   "execution_count": 22,
   "metadata": {
    "execution": {
     "iopub.execute_input": "2021-04-12T15:01:10.285268Z",
     "iopub.status.busy": "2021-04-12T15:01:10.284047Z",
     "iopub.status.idle": "2021-04-12T15:01:10.293242Z",
     "shell.execute_reply": "2021-04-12T15:01:10.292367Z"
    }
   },
   "outputs": [
    {
     "data": {
      "text/plain": [
       "0.27581004111500884"
      ]
     },
     "execution_count": 22,
     "metadata": {},
     "output_type": "execute_result"
    }
   ],
   "source": [
    "conditional(liberal, given=female)"
   ]
  },
  {
   "cell_type": "markdown",
   "metadata": {},
   "source": [
    "About 28% of female respondents are liberal.\n",
    "\n",
    "I included the keyword, `given`, along with the parameter, `female`, to make this expression more readable."
   ]
  },
  {
   "cell_type": "markdown",
   "metadata": {},
   "source": [
    "## Conditional Probability Is Not Commutative\n",
    "\n",
    "We have seen that conjunction is commutative; that is, `prob(A & B)` is always equal to `prob(B & A)`.\n",
    "\n",
    "But conditional probability is *not* commutative; that is, `conditional(A, B)` is not the same as `conditional(B, A)`.\n",
    "\n",
    "That should be clear if we look at an example.  Previously, we computed the probability a respondent is female, given that they are banker."
   ]
  },
  {
   "cell_type": "code",
   "execution_count": 23,
   "metadata": {
    "execution": {
     "iopub.execute_input": "2021-04-12T15:01:10.298253Z",
     "iopub.status.busy": "2021-04-12T15:01:10.297064Z",
     "iopub.status.idle": "2021-04-12T15:01:10.301634Z",
     "shell.execute_reply": "2021-04-12T15:01:10.302070Z"
    }
   },
   "outputs": [
    {
     "data": {
      "text/plain": [
       "0.7706043956043956"
      ]
     },
     "execution_count": 23,
     "metadata": {},
     "output_type": "execute_result"
    }
   ],
   "source": [
    "conditional(female, given=banker)"
   ]
  },
  {
   "cell_type": "markdown",
   "metadata": {},
   "source": [
    "The result shows that the majority of bankers are female.  That is not the same as the probability that a respondent is a banker, given that they are female:"
   ]
  },
  {
   "cell_type": "code",
   "execution_count": 24,
   "metadata": {
    "execution": {
     "iopub.execute_input": "2021-04-12T15:01:10.305388Z",
     "iopub.status.busy": "2021-04-12T15:01:10.304942Z",
     "iopub.status.idle": "2021-04-12T15:01:10.308682Z",
     "shell.execute_reply": "2021-04-12T15:01:10.309081Z"
    }
   },
   "outputs": [
    {
     "data": {
      "text/plain": [
       "0.02116102749801969"
      ]
     },
     "execution_count": 24,
     "metadata": {},
     "output_type": "execute_result"
    }
   ],
   "source": [
    "conditional(banker, given=female)"
   ]
  },
  {
   "cell_type": "markdown",
   "metadata": {},
   "source": [
    "Only about 2% of female respondents are bankers.\n",
    "\n",
    "I hope this example makes it clear that conditional probability is not commutative, and maybe it was already clear to you.  Nevertheless, it is a common error to confuse `conditional(A, B)` and `conditional(B, A)`.  We'll see some examples later."
   ]
  },
  {
   "cell_type": "markdown",
   "metadata": {},
   "source": [
    "## Condition and Conjunction\n",
    "\n",
    "We can combine conditional probability and conjunction.  For example, here's the probability a respondent is female, given that they are a liberal Democrat."
   ]
  },
  {
   "cell_type": "code",
   "execution_count": 25,
   "metadata": {
    "execution": {
     "iopub.execute_input": "2021-04-12T15:01:10.312644Z",
     "iopub.status.busy": "2021-04-12T15:01:10.312188Z",
     "iopub.status.idle": "2021-04-12T15:01:10.316211Z",
     "shell.execute_reply": "2021-04-12T15:01:10.315768Z"
    }
   },
   "outputs": [
    {
     "data": {
      "text/plain": [
       "0.576085409252669"
      ]
     },
     "execution_count": 25,
     "metadata": {},
     "output_type": "execute_result"
    }
   ],
   "source": [
    "conditional(female, given=liberal & democrat)"
   ]
  },
  {
   "cell_type": "markdown",
   "metadata": {},
   "source": [
    "About 57% of liberal Democrats are female.\n",
    "\n",
    "And here's the probability they are a liberal female, given that they are a banker:"
   ]
  },
  {
   "cell_type": "code",
   "execution_count": 26,
   "metadata": {
    "execution": {
     "iopub.execute_input": "2021-04-12T15:01:10.320213Z",
     "iopub.status.busy": "2021-04-12T15:01:10.319440Z",
     "iopub.status.idle": "2021-04-12T15:01:10.323372Z",
     "shell.execute_reply": "2021-04-12T15:01:10.323835Z"
    }
   },
   "outputs": [
    {
     "data": {
      "text/plain": [
       "0.17307692307692307"
      ]
     },
     "execution_count": 26,
     "metadata": {},
     "output_type": "execute_result"
    }
   ],
   "source": [
    "conditional(liberal & female, given=banker)"
   ]
  },
  {
   "cell_type": "markdown",
   "metadata": {},
   "source": [
    "About 17% of bankers are liberal women."
   ]
  },
  {
   "cell_type": "markdown",
   "metadata": {},
   "source": [
    "## Laws of Probability\n",
    "\n",
    "In the next few sections, we'll derive three relationships between conjunction and conditional probability:\n",
    "\n",
    "* Theorem 1: Using a conjunction to compute a conditional probability.\n",
    "\n",
    "* Theorem 2: Using a conditional probability to compute a conjunction.\n",
    "\n",
    "* Theorem 3: Using `conditional(A, B)` to compute `conditional(B, A)`.\n",
    "\n",
    "Theorem 3 is also known as Bayes's Theorem.\n",
    "\n",
    "I'll write these theorems using mathematical notation for probability:\n",
    "\n",
    "* $P(A)$ is the probability of proposition $A$.\n",
    "\n",
    "* $P(A~\\mathrm{and}~B)$ is the probability of the conjunction of $A$ and $B$, that is, the probability that both are true.\n",
    "\n",
    "* $P(A | B)$ is the conditional probability of $A$ given that $B$ is true.  The vertical line between $A$ and $B$ is pronounced \"given\". \n",
    "\n",
    "With that, we are ready for Theorem 1."
   ]
  },
  {
   "cell_type": "markdown",
   "metadata": {},
   "source": [
    "### Theorem 1\n",
    "\n",
    "What fraction of bankers are female?  We have already seen one way to compute the answer:\n",
    "\n",
    "1. Use the bracket operator to select the bankers, then\n",
    "\n",
    "2. Use `mean` to compute the fraction of bankers who are female.\n",
    "\n",
    "We can write these steps like this:"
   ]
  },
  {
   "cell_type": "code",
   "execution_count": 27,
   "metadata": {
    "execution": {
     "iopub.execute_input": "2021-04-12T15:01:10.328226Z",
     "iopub.status.busy": "2021-04-12T15:01:10.327417Z",
     "iopub.status.idle": "2021-04-12T15:01:10.331211Z",
     "shell.execute_reply": "2021-04-12T15:01:10.331669Z"
    }
   },
   "outputs": [
    {
     "data": {
      "text/plain": [
       "0.7706043956043956"
      ]
     },
     "execution_count": 27,
     "metadata": {},
     "output_type": "execute_result"
    }
   ],
   "source": [
    "female[banker].mean()"
   ]
  },
  {
   "cell_type": "markdown",
   "metadata": {},
   "source": [
    "Or we can use the `conditional` function, which does the same thing:"
   ]
  },
  {
   "cell_type": "code",
   "execution_count": 28,
   "metadata": {
    "execution": {
     "iopub.execute_input": "2021-04-12T15:01:10.334956Z",
     "iopub.status.busy": "2021-04-12T15:01:10.334523Z",
     "iopub.status.idle": "2021-04-12T15:01:10.337945Z",
     "shell.execute_reply": "2021-04-12T15:01:10.338348Z"
    }
   },
   "outputs": [
    {
     "data": {
      "text/plain": [
       "0.7706043956043956"
      ]
     },
     "execution_count": 28,
     "metadata": {},
     "output_type": "execute_result"
    }
   ],
   "source": [
    "conditional(female, given=banker)"
   ]
  },
  {
   "cell_type": "markdown",
   "metadata": {},
   "source": [
    "But there is another way to compute this conditional probability, by computing the ratio of two probabilities:\n",
    "\n",
    "1. The fraction of respondents who are female bankers, and\n",
    "\n",
    "2. The fraction of respondents who are bankers.\n",
    "\n",
    "In other words: of all the bankers, what fraction are female bankers?\n",
    "Here's how we compute this ratio."
   ]
  },
  {
   "cell_type": "code",
   "execution_count": 29,
   "metadata": {
    "execution": {
     "iopub.execute_input": "2021-04-12T15:01:10.341827Z",
     "iopub.status.busy": "2021-04-12T15:01:10.341302Z",
     "iopub.status.idle": "2021-04-12T15:01:10.345363Z",
     "shell.execute_reply": "2021-04-12T15:01:10.344918Z"
    }
   },
   "outputs": [
    {
     "data": {
      "text/plain": [
       "0.7706043956043956"
      ]
     },
     "execution_count": 29,
     "metadata": {},
     "output_type": "execute_result"
    }
   ],
   "source": [
    "prob(female & banker) / prob(banker)"
   ]
  },
  {
   "cell_type": "markdown",
   "metadata": {},
   "source": [
    "The result is the same.  This example demonstrates a general rule that relates conditional probability and conjunction.  Here's what it looks like in math notation:\n",
    "\n",
    "$$P(A|B) = \\frac{P(A~\\mathrm{and}~B)}{P(B)}$$\n",
    "\n",
    "And that's Theorem 1."
   ]
  },
  {
   "cell_type": "markdown",
   "metadata": {},
   "source": [
    "### Theorem 2\n",
    "\n",
    "If we start with Theorem 1 and multiply both sides by $P(B)$, we get Theorem 2.\n",
    "\n",
    "$$P(A~\\mathrm{and}~B) = P(B) ~ P(A|B)$$\n",
    "\n",
    "This formula suggests a second way to compute a conjunction: instead of using the `&` operator, we can compute the product of two probabilities.\n",
    "\n",
    "Let's see if it works for `liberal` and `democrat`.  Here's the result using `&`:"
   ]
  },
  {
   "cell_type": "code",
   "execution_count": 30,
   "metadata": {
    "execution": {
     "iopub.execute_input": "2021-04-12T15:01:10.349668Z",
     "iopub.status.busy": "2021-04-12T15:01:10.349098Z",
     "iopub.status.idle": "2021-04-12T15:01:10.352457Z",
     "shell.execute_reply": "2021-04-12T15:01:10.352106Z"
    }
   },
   "outputs": [
    {
     "data": {
      "text/plain": [
       "0.1425238385067965"
      ]
     },
     "execution_count": 30,
     "metadata": {},
     "output_type": "execute_result"
    }
   ],
   "source": [
    "prob(liberal & democrat)"
   ]
  },
  {
   "cell_type": "markdown",
   "metadata": {},
   "source": [
    "And here's the result using Theorem 2:"
   ]
  },
  {
   "cell_type": "code",
   "execution_count": 31,
   "metadata": {
    "execution": {
     "iopub.execute_input": "2021-04-12T15:01:10.355938Z",
     "iopub.status.busy": "2021-04-12T15:01:10.355484Z",
     "iopub.status.idle": "2021-04-12T15:01:10.359930Z",
     "shell.execute_reply": "2021-04-12T15:01:10.359403Z"
    }
   },
   "outputs": [
    {
     "data": {
      "text/plain": [
       "0.1425238385067965"
      ]
     },
     "execution_count": 31,
     "metadata": {},
     "output_type": "execute_result"
    }
   ],
   "source": [
    "prob(democrat) * conditional(liberal, democrat)"
   ]
  },
  {
   "cell_type": "markdown",
   "metadata": {},
   "source": [
    "They are the same."
   ]
  },
  {
   "cell_type": "markdown",
   "metadata": {},
   "source": [
    "### Theorem 3\n",
    "\n",
    "We have established that conjunction is commutative.  In math notation, that means:\n",
    "\n",
    "$$P(A~\\mathrm{and}~B) = P(B~\\mathrm{and}~A)$$\n",
    "\n",
    "If we apply Theorem 2 to both sides, we have\n",
    "\n",
    "$$P(B) P(A|B) = P(A) P(B|A)$$\n",
    "\n",
    "Here's one way to interpret that: if you want to check $A$ and $B$, you can do it in either order:\n",
    "\n",
    "1. You can check $B$ first, then $A$ conditioned on $B$, or\n",
    "\n",
    "2. You can check $A$ first, then $B$ conditioned on $A$.\n",
    "\n",
    "If we divide through by $P(B)$, we get Theorem 3:\n",
    "\n",
    "$$P(A|B) = \\frac{P(A) P(B|A)}{P(B)}$$\n",
    "\n",
    "And that, my friends, is Bayes's Theorem.\n",
    "\n",
    "To see how it works, let's compute the fraction of bankers who are liberal, first using `conditional`:"
   ]
  },
  {
   "cell_type": "code",
   "execution_count": 32,
   "metadata": {
    "execution": {
     "iopub.execute_input": "2021-04-12T15:01:10.364217Z",
     "iopub.status.busy": "2021-04-12T15:01:10.363416Z",
     "iopub.status.idle": "2021-04-12T15:01:10.367823Z",
     "shell.execute_reply": "2021-04-12T15:01:10.367363Z"
    }
   },
   "outputs": [
    {
     "data": {
      "text/plain": [
       "0.2239010989010989"
      ]
     },
     "execution_count": 32,
     "metadata": {},
     "output_type": "execute_result"
    }
   ],
   "source": [
    "conditional(liberal, given=banker)"
   ]
  },
  {
   "cell_type": "markdown",
   "metadata": {},
   "source": [
    "Now using Bayes's Theorem:"
   ]
  },
  {
   "cell_type": "code",
   "execution_count": 33,
   "metadata": {
    "execution": {
     "iopub.execute_input": "2021-04-12T15:01:10.372016Z",
     "iopub.status.busy": "2021-04-12T15:01:10.371455Z",
     "iopub.status.idle": "2021-04-12T15:01:10.375441Z",
     "shell.execute_reply": "2021-04-12T15:01:10.375810Z"
    }
   },
   "outputs": [
    {
     "data": {
      "text/plain": [
       "0.2239010989010989"
      ]
     },
     "execution_count": 33,
     "metadata": {},
     "output_type": "execute_result"
    }
   ],
   "source": [
    "prob(liberal) * conditional(banker, liberal) / prob(banker)"
   ]
  },
  {
   "cell_type": "markdown",
   "metadata": {},
   "source": [
    "They are the same."
   ]
  },
  {
   "cell_type": "markdown",
   "metadata": {},
   "source": [
    "### The Law of Total Probability\n",
    "\n",
    "In addition to these three theorems, there's one more thing we'll need to do Bayesian statistics: the law of total probability.\n",
    "Here's one form of the law, expressed in mathematical notation:\n",
    "\n",
    "$$P(A) = P(B_1 \\mathrm{and} A) + P(B_2 \\mathrm{and} A)$$\n",
    "\n",
    "In words, the total probability of $A$ is the sum of two possibilities: either $B_1$ and $A$ are true or $B_2$ and $A$ are true.\n",
    "But this law applies only if $B_1$ and $B_2$ are:\n",
    "\n",
    "* Mutually exclusive, which means that only one of them can be true, and\n",
    "\n",
    "* Collectively exhaustive, which means that one of them must be true.\n",
    "\n",
    "As an example, let's use this law to compute the probability that a respondent is a banker.\n",
    "We can compute it directly like this:"
   ]
  },
  {
   "cell_type": "code",
   "execution_count": 34,
   "metadata": {
    "execution": {
     "iopub.execute_input": "2021-04-12T15:01:10.379237Z",
     "iopub.status.busy": "2021-04-12T15:01:10.378763Z",
     "iopub.status.idle": "2021-04-12T15:01:10.380961Z",
     "shell.execute_reply": "2021-04-12T15:01:10.381322Z"
    }
   },
   "outputs": [
    {
     "data": {
      "text/plain": [
       "0.014769730168391155"
      ]
     },
     "execution_count": 34,
     "metadata": {},
     "output_type": "execute_result"
    }
   ],
   "source": [
    "prob(banker)"
   ]
  },
  {
   "cell_type": "markdown",
   "metadata": {},
   "source": [
    "So let's confirm that we get the same thing if we compute male and female bankers separately.\n",
    "\n",
    "In this dataset all respondents are designated male or female.  Recently, the GSS Board of Overseers announced that they will add more inclusive gender questions to the survey (you can read more about this issue, and their decision, at <https://gender.stanford.edu/news-publications/gender-news/more-inclusive-gender-questions-added-general-social-survey>.\n",
    "\n",
    "\n",
    "We already have a Boolean `Series` that is `True` for female respondents.\n",
    "Here's the complementary `Series` for male respondents."
   ]
  },
  {
   "cell_type": "code",
   "execution_count": 35,
   "metadata": {
    "execution": {
     "iopub.execute_input": "2021-04-12T15:01:10.385382Z",
     "iopub.status.busy": "2021-04-12T15:01:10.384669Z",
     "iopub.status.idle": "2021-04-12T15:01:10.387190Z",
     "shell.execute_reply": "2021-04-12T15:01:10.386592Z"
    }
   },
   "outputs": [],
   "source": [
    "male = (gss['sex'] == 1)"
   ]
  },
  {
   "cell_type": "markdown",
   "metadata": {},
   "source": [
    "Now we can compute the total probability of `banker` like this. "
   ]
  },
  {
   "cell_type": "code",
   "execution_count": 36,
   "metadata": {
    "execution": {
     "iopub.execute_input": "2021-04-12T15:01:10.391378Z",
     "iopub.status.busy": "2021-04-12T15:01:10.390761Z",
     "iopub.status.idle": "2021-04-12T15:01:10.394488Z",
     "shell.execute_reply": "2021-04-12T15:01:10.395018Z"
    }
   },
   "outputs": [
    {
     "data": {
      "text/plain": [
       "0.014769730168391155"
      ]
     },
     "execution_count": 36,
     "metadata": {},
     "output_type": "execute_result"
    }
   ],
   "source": [
    "prob(male & banker) + prob(female & banker)"
   ]
  },
  {
   "cell_type": "markdown",
   "metadata": {},
   "source": [
    "Because `male` and `female` are mutually exclusive and collectively exhaustive (MECE), we get the same result we got by computing the probability of `banker` directly.\n",
    "\n",
    "Applying Theorem 2, we can also write the law of total probability like this:\n",
    "\n",
    "$$P(A) = P(B_1) P(A|B_1) + P(B_2) P(A|B_2)$$\n",
    "\n",
    "And we can test it with the same example:"
   ]
  },
  {
   "cell_type": "code",
   "execution_count": 37,
   "metadata": {
    "execution": {
     "iopub.execute_input": "2021-04-12T15:01:10.399088Z",
     "iopub.status.busy": "2021-04-12T15:01:10.398516Z",
     "iopub.status.idle": "2021-04-12T15:01:10.406025Z",
     "shell.execute_reply": "2021-04-12T15:01:10.406521Z"
    }
   },
   "outputs": [
    {
     "data": {
      "text/plain": [
       "0.014769730168391153"
      ]
     },
     "execution_count": 37,
     "metadata": {},
     "output_type": "execute_result"
    }
   ],
   "source": [
    "(prob(male) * conditional(banker, given=male) +\n",
    "prob(female) * conditional(banker, given=female))"
   ]
  },
  {
   "cell_type": "markdown",
   "metadata": {},
   "source": [
    "When there are more than two conditions, it is more concise to write the law of total probability as a summation:\n",
    "\n",
    "$$P(A) = \\sum_i P(B_i) P(A|B_i)$$\n",
    "\n",
    "Again, this holds as long as the conditions, $B_i$ are mutually exclusive and collectively exhaustive.\n",
    "As an example, let's consider `polviews`, which has seven different values."
   ]
  },
  {
   "cell_type": "code",
   "execution_count": 38,
   "metadata": {
    "execution": {
     "iopub.execute_input": "2021-04-12T15:01:10.411034Z",
     "iopub.status.busy": "2021-04-12T15:01:10.410535Z",
     "iopub.status.idle": "2021-04-12T15:01:10.414604Z",
     "shell.execute_reply": "2021-04-12T15:01:10.415014Z"
    }
   },
   "outputs": [
    {
     "data": {
      "text/plain": [
       "1.0     1442\n",
       "2.0     5808\n",
       "3.0     6243\n",
       "4.0    18943\n",
       "5.0     7940\n",
       "6.0     7319\n",
       "7.0     1595\n",
       "Name: polviews, dtype: int64"
      ]
     },
     "execution_count": 38,
     "metadata": {},
     "output_type": "execute_result"
    }
   ],
   "source": [
    "B = gss['polviews']\n",
    "B.value_counts().sort_index()"
   ]
  },
  {
   "cell_type": "markdown",
   "metadata": {},
   "source": [
    "On this scale, `4.0` represents \"Moderate\".\n",
    "So we can compute the probability of a moderate banker like this:"
   ]
  },
  {
   "cell_type": "code",
   "execution_count": 39,
   "metadata": {
    "execution": {
     "iopub.execute_input": "2021-04-12T15:01:10.419732Z",
     "iopub.status.busy": "2021-04-12T15:01:10.418962Z",
     "iopub.status.idle": "2021-04-12T15:01:10.424230Z",
     "shell.execute_reply": "2021-04-12T15:01:10.423786Z"
    }
   },
   "outputs": [
    {
     "data": {
      "text/plain": [
       "0.005822682085615744"
      ]
     },
     "execution_count": 39,
     "metadata": {},
     "output_type": "execute_result"
    }
   ],
   "source": [
    "i = 4\n",
    "prob(B==i) * conditional(banker, B==i)"
   ]
  },
  {
   "cell_type": "markdown",
   "metadata": {},
   "source": [
    "And we can use `sum` and a [generator expression](https://www.johndcook.com/blog/2020/01/15/generator-expression/) to compute the summation."
   ]
  },
  {
   "cell_type": "code",
   "execution_count": 40,
   "metadata": {
    "execution": {
     "iopub.execute_input": "2021-04-12T15:01:10.428531Z",
     "iopub.status.busy": "2021-04-12T15:01:10.427954Z",
     "iopub.status.idle": "2021-04-12T15:01:10.443247Z",
     "shell.execute_reply": "2021-04-12T15:01:10.442623Z"
    }
   },
   "outputs": [
    {
     "data": {
      "text/plain": [
       "0.014769730168391157"
      ]
     },
     "execution_count": 40,
     "metadata": {},
     "output_type": "execute_result"
    }
   ],
   "source": [
    "sum(prob(B==i) * conditional(banker, B==i)\n",
    "    for i in range(1, 8))"
   ]
  },
  {
   "cell_type": "markdown",
   "metadata": {},
   "source": [
    "The result is the same.\n",
    "\n",
    "In this example, using the law of total probability is a lot more work than computing the probability directly, but it will turn out to be useful, I promise."
   ]
  },
  {
   "cell_type": "markdown",
   "metadata": {},
   "source": [
    "## Summary\n",
    "\n",
    "Here's what we have so far:\n",
    "\n",
    "**Theorem 1** gives us a way to compute a conditional probability using a conjunction:\n",
    "\n",
    "$$P(A|B) = \\frac{P(A~\\mathrm{and}~B)}{P(B)}$$\n",
    "\n",
    "**Theorem 2** gives us a way to compute a conjunction using a conditional probability:\n",
    "\n",
    "$$P(A~\\mathrm{and}~B) = P(B) P(A|B)$$\n",
    "\n",
    "**Theorem 3**, also known as Bayes's Theorem, gives us a way to get from $P(A|B)$ to $P(B|A)$, or the other way around:\n",
    "\n",
    "$$P(A|B) = \\frac{P(A) P(B|A)}{P(B)}$$\n",
    "\n",
    "**The Law of Total Probability** provides a way to compute probabilities by adding up the pieces:\n",
    "\n",
    "$$P(A) = \\sum_i P(B_i) P(A|B_i)$$\n",
    "\n",
    "At this point you might ask, \"So what?\"  If we have all of the data, we can compute any probability we want, any conjunction, or any conditional probability, just by counting.  We don't have to use these formulas.\n",
    "\n",
    "And you are right, *if* we have all of the data.  But often we don't, and in that case, these formulas can be pretty useful -- especially Bayes's Theorem.\n",
    "In the next chapter, we'll see how."
   ]
  },
  {
   "cell_type": "markdown",
   "metadata": {},
   "source": [
    "## Exercises"
   ]
  },
  {
   "cell_type": "markdown",
   "metadata": {},
   "source": [
    "**Exercise:** Let's use the tools in this chapter to solve a variation of the Linda problem.\n",
    "\n",
    "> Linda is 31 years old, single, outspoken, and very bright. She majored in philosophy. As a student, she was deeply concerned with issues of discrimination and social justice, and also participated in anti-nuclear demonstrations.  Which is more probable?\n",
    "> 1. Linda is a banker.\n",
    "> 2. Linda is a banker and considers herself a liberal Democrat.\n",
    "\n",
    "To answer this question, compute \n",
    "\n",
    "* The probability that Linda is a female banker,\n",
    "\n",
    "* The probability that Linda is a liberal female banker, and\n",
    "\n",
    "* The probability that Linda is a liberal female banker and a Democrat."
   ]
  },
  {
   "cell_type": "code",
   "execution_count": 41,
   "metadata": {
    "execution": {
     "iopub.execute_input": "2021-04-12T15:01:10.448204Z",
     "iopub.status.busy": "2021-04-12T15:01:10.447241Z",
     "iopub.status.idle": "2021-04-12T15:01:10.451195Z",
     "shell.execute_reply": "2021-04-12T15:01:10.451733Z"
    }
   },
   "outputs": [
    {
     "data": {
      "text/plain": [
       "0.011381618989653074"
      ]
     },
     "execution_count": 41,
     "metadata": {},
     "output_type": "execute_result"
    }
   ],
   "source": [
    "# Solution\n",
    "\n",
    "prob(female & banker)"
   ]
  },
  {
   "cell_type": "code",
   "execution_count": 42,
   "metadata": {
    "execution": {
     "iopub.execute_input": "2021-04-12T15:01:10.456134Z",
     "iopub.status.busy": "2021-04-12T15:01:10.455635Z",
     "iopub.status.idle": "2021-04-12T15:01:10.459431Z",
     "shell.execute_reply": "2021-04-12T15:01:10.459811Z"
    }
   },
   "outputs": [
    {
     "data": {
      "text/plain": [
       "0.002556299452221546"
      ]
     },
     "execution_count": 42,
     "metadata": {},
     "output_type": "execute_result"
    }
   ],
   "source": [
    "# Solution\n",
    "\n",
    "prob(female & banker & liberal)"
   ]
  },
  {
   "cell_type": "code",
   "execution_count": 43,
   "metadata": {
    "execution": {
     "iopub.execute_input": "2021-04-12T15:01:10.463117Z",
     "iopub.status.busy": "2021-04-12T15:01:10.462666Z",
     "iopub.status.idle": "2021-04-12T15:01:10.466488Z",
     "shell.execute_reply": "2021-04-12T15:01:10.466887Z"
    }
   },
   "outputs": [
    {
     "data": {
      "text/plain": [
       "0.0012375735443294787"
      ]
     },
     "execution_count": 43,
     "metadata": {},
     "output_type": "execute_result"
    }
   ],
   "source": [
    "# Solution\n",
    "\n",
    "prob(female & banker & liberal & democrat)"
   ]
  },
  {
   "cell_type": "markdown",
   "metadata": {},
   "source": [
    "**Exercise:** Use `conditional` to compute the following probabilities:\n",
    "\n",
    "* What is the probability that a respondent is liberal, given that they are a Democrat?\n",
    "\n",
    "* What is the probability that a respondent is a Democrat, given that they are liberal?\n",
    "\n",
    "Think carefully about the order of the arguments you pass to `conditional`."
   ]
  },
  {
   "cell_type": "code",
   "execution_count": 44,
   "metadata": {
    "execution": {
     "iopub.execute_input": "2021-04-12T15:01:10.469972Z",
     "iopub.status.busy": "2021-04-12T15:01:10.469497Z",
     "iopub.status.idle": "2021-04-12T15:01:10.474617Z",
     "shell.execute_reply": "2021-04-12T15:01:10.475088Z"
    }
   },
   "outputs": [
    {
     "data": {
      "text/plain": [
       "0.3891320002215698"
      ]
     },
     "execution_count": 44,
     "metadata": {},
     "output_type": "execute_result"
    }
   ],
   "source": [
    "# Solution\n",
    "\n",
    "conditional(liberal, given=democrat)"
   ]
  },
  {
   "cell_type": "code",
   "execution_count": 45,
   "metadata": {
    "execution": {
     "iopub.execute_input": "2021-04-12T15:01:10.478895Z",
     "iopub.status.busy": "2021-04-12T15:01:10.478204Z",
     "iopub.status.idle": "2021-04-12T15:01:10.484197Z",
     "shell.execute_reply": "2021-04-12T15:01:10.483657Z"
    }
   },
   "outputs": [
    {
     "data": {
      "text/plain": [
       "0.5206403320240125"
      ]
     },
     "execution_count": 45,
     "metadata": {},
     "output_type": "execute_result"
    }
   ],
   "source": [
    "# Solution\n",
    "\n",
    "conditional(democrat, given=liberal)"
   ]
  },
  {
   "cell_type": "markdown",
   "metadata": {},
   "source": [
    "**Exercise:** There's a [famous quote](https://quoteinvestigator.com/2014/02/24/heart-head/) about young people, old people, liberals, and conservatives that goes something like:\n",
    "\n",
    "> If you are not a liberal at 25, you have no heart. If you are not a conservative at 35, you have no brain.\n",
    "\n",
    "Whether you agree with this proposition or not, it suggests some probabilities we can compute as an exercise.\n",
    "Rather than use the specific ages 25 and 35, let's define `young` and `old` as under 30 or over 65:"
   ]
  },
  {
   "cell_type": "code",
   "execution_count": 46,
   "metadata": {
    "execution": {
     "iopub.execute_input": "2021-04-12T15:01:10.489506Z",
     "iopub.status.busy": "2021-04-12T15:01:10.488655Z",
     "iopub.status.idle": "2021-04-12T15:01:10.493164Z",
     "shell.execute_reply": "2021-04-12T15:01:10.492572Z"
    }
   },
   "outputs": [
    {
     "data": {
      "text/plain": [
       "0.19435991073240008"
      ]
     },
     "execution_count": 46,
     "metadata": {},
     "output_type": "execute_result"
    }
   ],
   "source": [
    "young = (gss['age'] < 30)\n",
    "prob(young)"
   ]
  },
  {
   "cell_type": "code",
   "execution_count": 47,
   "metadata": {
    "execution": {
     "iopub.execute_input": "2021-04-12T15:01:10.498552Z",
     "iopub.status.busy": "2021-04-12T15:01:10.497723Z",
     "iopub.status.idle": "2021-04-12T15:01:10.501503Z",
     "shell.execute_reply": "2021-04-12T15:01:10.501037Z"
    }
   },
   "outputs": [
    {
     "data": {
      "text/plain": [
       "0.17328058429701765"
      ]
     },
     "execution_count": 47,
     "metadata": {},
     "output_type": "execute_result"
    }
   ],
   "source": [
    "old = (gss['age'] >= 65)\n",
    "prob(old)"
   ]
  },
  {
   "cell_type": "markdown",
   "metadata": {},
   "source": [
    "For these thresholds, I chose round numbers near the 20th and 80th percentiles.  Depending on your age, you may or may not agree with these definitions of \"young\" and \"old\".\n",
    "\n",
    "I'll define `conservative` as someone whose political views are \"Conservative\", \"Slightly Conservative\", or \"Extremely Conservative\"."
   ]
  },
  {
   "cell_type": "code",
   "execution_count": 48,
   "metadata": {
    "execution": {
     "iopub.execute_input": "2021-04-12T15:01:10.506633Z",
     "iopub.status.busy": "2021-04-12T15:01:10.505813Z",
     "iopub.status.idle": "2021-04-12T15:01:10.510382Z",
     "shell.execute_reply": "2021-04-12T15:01:10.510937Z"
    }
   },
   "outputs": [
    {
     "data": {
      "text/plain": [
       "0.3419354838709677"
      ]
     },
     "execution_count": 48,
     "metadata": {},
     "output_type": "execute_result"
    }
   ],
   "source": [
    "conservative = (gss['polviews'] >= 5)\n",
    "prob(conservative)"
   ]
  },
  {
   "cell_type": "markdown",
   "metadata": {},
   "source": [
    "Use `prob` and `conditional` to compute the following probabilities.\n",
    "\n",
    "* What is the probability that a randomly chosen respondent is a young liberal?\n",
    "\n",
    "* What is the probability that a young person is liberal?\n",
    "\n",
    "* What fraction of respondents are old conservatives?\n",
    "\n",
    "* What fraction of conservatives are old?\n",
    "\n",
    "For each statement, think about whether it is expressing a conjunction, a conditional probability, or both.\n",
    "\n",
    "For the conditional probabilities, be careful about the order of the arguments.\n",
    "If your answer to the last question is greater than 30%, you have it backwards!"
   ]
  },
  {
   "cell_type": "code",
   "execution_count": 49,
   "metadata": {
    "execution": {
     "iopub.execute_input": "2021-04-12T15:01:10.514531Z",
     "iopub.status.busy": "2021-04-12T15:01:10.513790Z",
     "iopub.status.idle": "2021-04-12T15:01:10.518104Z",
     "shell.execute_reply": "2021-04-12T15:01:10.517667Z"
    }
   },
   "outputs": [
    {
     "data": {
      "text/plain": [
       "0.06579427875836884"
      ]
     },
     "execution_count": 49,
     "metadata": {},
     "output_type": "execute_result"
    }
   ],
   "source": [
    "# Solution\n",
    "\n",
    "prob(young & liberal)"
   ]
  },
  {
   "cell_type": "code",
   "execution_count": 50,
   "metadata": {
    "execution": {
     "iopub.execute_input": "2021-04-12T15:01:10.521811Z",
     "iopub.status.busy": "2021-04-12T15:01:10.521135Z",
     "iopub.status.idle": "2021-04-12T15:01:10.525966Z",
     "shell.execute_reply": "2021-04-12T15:01:10.526496Z"
    }
   },
   "outputs": [
    {
     "data": {
      "text/plain": [
       "0.338517745302714"
      ]
     },
     "execution_count": 50,
     "metadata": {},
     "output_type": "execute_result"
    }
   ],
   "source": [
    "# Solution\n",
    "\n",
    "conditional(liberal, given=young)"
   ]
  },
  {
   "cell_type": "code",
   "execution_count": 51,
   "metadata": {
    "execution": {
     "iopub.execute_input": "2021-04-12T15:01:10.530618Z",
     "iopub.status.busy": "2021-04-12T15:01:10.529682Z",
     "iopub.status.idle": "2021-04-12T15:01:10.534342Z",
     "shell.execute_reply": "2021-04-12T15:01:10.533756Z"
    }
   },
   "outputs": [
    {
     "data": {
      "text/plain": [
       "0.06701156421180766"
      ]
     },
     "execution_count": 51,
     "metadata": {},
     "output_type": "execute_result"
    }
   ],
   "source": [
    "# Solution\n",
    "\n",
    "prob(old & conservative)"
   ]
  },
  {
   "cell_type": "code",
   "execution_count": 52,
   "metadata": {
    "execution": {
     "iopub.execute_input": "2021-04-12T15:01:10.538973Z",
     "iopub.status.busy": "2021-04-12T15:01:10.538253Z",
     "iopub.status.idle": "2021-04-12T15:01:10.543770Z",
     "shell.execute_reply": "2021-04-12T15:01:10.543212Z"
    }
   },
   "outputs": [
    {
     "data": {
      "text/plain": [
       "0.19597721609113564"
      ]
     },
     "execution_count": 52,
     "metadata": {},
     "output_type": "execute_result"
    }
   ],
   "source": [
    "# Solution\n",
    "\n",
    "conditional(old, given=conservative)"
   ]
  },
  {
   "cell_type": "markdown",
   "metadata": {},
   "source": []
  }
 ],
 "metadata": {
  "celltoolbar": "Tags",
  "kernelspec": {
   "display_name": "Python 3",
   "language": "python",
   "name": "python3"
  },
  "language_info": {
   "codemirror_mode": {
    "name": "ipython",
    "version": 3
   },
   "file_extension": ".py",
   "mimetype": "text/x-python",
   "name": "python",
   "nbconvert_exporter": "python",
   "pygments_lexer": "ipython3",
   "version": "3.8.8"
  }
 },
 "nbformat": 4,
 "nbformat_minor": 4
}
