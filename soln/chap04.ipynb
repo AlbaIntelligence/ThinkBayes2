{
 "cells": [
  {
   "cell_type": "markdown",
   "metadata": {},
   "source": [
    "# Estimating Proportions"
   ]
  },
  {
   "cell_type": "markdown",
   "metadata": {
    "tags": [
     "remove-cell"
    ]
   },
   "source": [
    "Think Bayes, Second Edition\n",
    "\n",
    "Copyright 2020 Allen B. Downey\n",
    "\n",
    "License: [Attribution-NonCommercial-ShareAlike 4.0 International (CC BY-NC-SA 4.0)](https://creativecommons.org/licenses/by-nc-sa/4.0/)"
   ]
  },
  {
   "cell_type": "code",
   "execution_count": 3,
   "metadata": {
    "tags": [
     "remove-cell"
    ]
   },
   "outputs": [],
   "source": [
    "# If we're running on Colab, install empiricaldist\n",
    "# https://pypi.org/project/empiricaldist/\n",
    "\n",
    "import sys\n",
    "IN_COLAB = 'google.colab' in sys.modules\n",
    "\n",
    "if IN_COLAB:\n",
    "    !pip install empiricaldist"
   ]
  },
  {
   "cell_type": "code",
   "execution_count": 4,
   "metadata": {
    "tags": [
     "remove-cell"
    ]
   },
   "outputs": [],
   "source": [
    "# Get utils.py and create directories\n",
    "\n",
    "import os\n",
    "\n",
    "if not os.path.exists('utils.py'):\n",
    "    !wget https://github.com/AllenDowney/ThinkBayes2/raw/master/soln/utils.py"
   ]
  },
  {
   "cell_type": "code",
   "execution_count": 5,
   "metadata": {
    "tags": [
     "remove-cell"
    ]
   },
   "outputs": [],
   "source": [
    "from utils import set_pyplot_params\n",
    "set_pyplot_params()"
   ]
  },
  {
   "cell_type": "markdown",
   "metadata": {},
   "source": [
    "In the previous chapter we solved the 101 Bowls Problem, and I admitted that it is not really about guessing which bowl the cookies came from; it is about estimating proportions.\n",
    "\n",
    "In this chapter, we take another step toward Bayesian statistics by solving the Euro problem.\n",
    "We'll start with the same prior distribution, and we'll see that the update is the same, mathematically.\n",
    "But I will argue that it is a different problem, philosophically, and use it to introduce two defining elements of Bayesian statistics: choosing prior distributions, and using probability to represent the unknown."
   ]
  },
  {
   "cell_type": "markdown",
   "metadata": {},
   "source": [
    "## The Euro Problem\n",
    "\n",
    "In *Information Theory, Inference, and Learning Algorithms*, David MacKay poses this problem:\n",
    "\n",
    "\"A statistical statement appeared in *The Guardian* on Friday January 4, 2002:\n",
    "\n",
    "> When spun on edge 250 times, a Belgian one-euro coin came up heads 140 times and tails 110.  \\`It looks very suspicious to me,' said Barry Blight, a statistics lecturer at the London School of Economics.  \\`If the coin were unbiased, the chance of getting a result as extreme as that would be less than 7%.'\n",
    "\n",
    "\"But [MacKay asks] do these data give evidence that the coin is biased rather than fair?\"\n",
    "\n",
    "To answer that question, we'll proceed in two steps.\n",
    "First we'll use the binomial distribution to see where that 7% came from; then we'll use Bayes's Theorem to estimate the probability that this coin comes up heads.\n"
   ]
  },
  {
   "cell_type": "markdown",
   "metadata": {},
   "source": [
    "## The Binomial Distribution\n",
    "\n",
    "Suppose I tell you that a coin is \"fair\", that is, the probability of heads is 50%.  If you spin it twice, there are four outcomes: `HH`, `HT`, `TH`, and `TT`.  All four outcomes have the same probability, 25%.\n",
    "\n",
    "If we add up the total number of heads, there are three possible results: 0, 1, or 2.  The probabilities of 0 and 2 are 25%, and the probability of 1 is 50%.\n",
    "\n",
    "More generally, suppose the probability of heads is $p$ and we spin the coin $n$ times.  The probability that we get a total of $k$ heads is given by the [binomial distribution](https://en.wikipedia.org/wiki/Binomial_distribution):\n",
    "\n",
    "$$\\binom{n}{k} p^k (1-p)^{n-k}$$\n",
    "\n",
    "for any value of $k$ from 0 to $n$, including both.\n",
    "The term $\\binom{n}{k}$ is the [binomial coefficient](https://en.wikipedia.org/wiki/Binomial_coefficient), usually pronounced \"n choose k\".\n",
    "\n",
    "We could evaluate this expression ourselves, but we can also use the SciPy function `binom.pmf`.\n",
    "For example, if we flip a coin `n=2` time and the probability of heads is `p=0.5`, here's the probability of getting `k=1` heads:"
   ]
  },
  {
   "cell_type": "code",
   "execution_count": 6,
   "metadata": {},
   "outputs": [
    {
     "data": {
      "text/plain": [
       "0.5"
      ]
     },
     "execution_count": 6,
     "metadata": {},
     "output_type": "execute_result"
    }
   ],
   "source": [
    "from scipy.stats import binom\n",
    "\n",
    "n = 2\n",
    "p = 0.5\n",
    "k = 1\n",
    "\n",
    "binom.pmf(k, n, p)"
   ]
  },
  {
   "cell_type": "markdown",
   "metadata": {},
   "source": [
    "Instead of providing a single value for `k`, we can also call `binom.pmf` with an array of values."
   ]
  },
  {
   "cell_type": "code",
   "execution_count": 7,
   "metadata": {},
   "outputs": [
    {
     "data": {
      "text/plain": [
       "array([0.25, 0.5 , 0.25])"
      ]
     },
     "execution_count": 7,
     "metadata": {},
     "output_type": "execute_result"
    }
   ],
   "source": [
    "import numpy as np\n",
    "ks = np.arange(n+1)\n",
    "\n",
    "ps = binom.pmf(ks, n, p)\n",
    "ps"
   ]
  },
  {
   "cell_type": "markdown",
   "metadata": {},
   "source": [
    "The result is a NumPy array with the probability of 0, 1, or 2 heads.\n",
    "If we put these probabilities in a `Pmf`, the result is the distribution of `k` for the given values of `n` and `p`.\n",
    "\n",
    "Here's what it looks like:"
   ]
  },
  {
   "cell_type": "code",
   "execution_count": 8,
   "metadata": {},
   "outputs": [
    {
     "data": {
      "text/html": [
       "<div>\n",
       "<style scoped>\n",
       "    .dataframe tbody tr th:only-of-type {\n",
       "        vertical-align: middle;\n",
       "    }\n",
       "\n",
       "    .dataframe tbody tr th {\n",
       "        vertical-align: top;\n",
       "    }\n",
       "\n",
       "    .dataframe thead th {\n",
       "        text-align: right;\n",
       "    }\n",
       "</style>\n",
       "<table border=\"1\" class=\"dataframe\">\n",
       "  <thead>\n",
       "    <tr style=\"text-align: right;\">\n",
       "      <th></th>\n",
       "      <th>probs</th>\n",
       "    </tr>\n",
       "  </thead>\n",
       "  <tbody>\n",
       "    <tr>\n",
       "      <th>0</th>\n",
       "      <td>0.25</td>\n",
       "    </tr>\n",
       "    <tr>\n",
       "      <th>1</th>\n",
       "      <td>0.50</td>\n",
       "    </tr>\n",
       "    <tr>\n",
       "      <th>2</th>\n",
       "      <td>0.25</td>\n",
       "    </tr>\n",
       "  </tbody>\n",
       "</table>\n",
       "</div>"
      ],
      "text/plain": [
       "0    0.25\n",
       "1    0.50\n",
       "2    0.25\n",
       "dtype: float64"
      ]
     },
     "execution_count": 8,
     "metadata": {},
     "output_type": "execute_result"
    }
   ],
   "source": [
    "from empiricaldist import Pmf\n",
    "\n",
    "pmf_k = Pmf(ps, ks)\n",
    "pmf_k"
   ]
  },
  {
   "cell_type": "markdown",
   "metadata": {},
   "source": [
    "The following function computes the binomial distribution for given values of `n` and `p` and returns a `Pmf` that represents the result."
   ]
  },
  {
   "cell_type": "code",
   "execution_count": 9,
   "metadata": {},
   "outputs": [],
   "source": [
    "def make_binomial(n, p):\n",
    "    \"\"\"Make a binomial Pmf.\"\"\"\n",
    "    ks = np.arange(n+1)\n",
    "    ps = binom.pmf(ks, n, p)\n",
    "    return Pmf(ps, ks)"
   ]
  },
  {
   "cell_type": "markdown",
   "metadata": {},
   "source": [
    "Here's what it looks like with `n=250` and `p=0.5`:"
   ]
  },
  {
   "cell_type": "code",
   "execution_count": 10,
   "metadata": {},
   "outputs": [],
   "source": [
    "pmf_k = make_binomial(n=250, p=0.5)"
   ]
  },
  {
   "cell_type": "code",
   "execution_count": 11,
   "metadata": {
    "tags": [
     "hide-input"
    ]
   },
   "outputs": [
    {
     "data": {
      "image/png": "[encoded data removed]",
      "text/plain": [
       "<Figure size 432x288 with 1 Axes>"
      ]
     },
     "metadata": {
      "needs_background": "light"
     },
     "output_type": "display_data"
    }
   ],
   "source": [
    "from utils import decorate\n",
    "\n",
    "pmf_k.plot(label='n=250, p=0.5')\n",
    "\n",
    "decorate(xlabel='Number of heads (k)',\n",
    "         ylabel='PMF',\n",
    "         title='Binomial distribution')"
   ]
  },
  {
   "cell_type": "markdown",
   "metadata": {},
   "source": [
    "The most likely quantity in this distribution is 125:"
   ]
  },
  {
   "cell_type": "code",
   "execution_count": 12,
   "metadata": {},
   "outputs": [
    {
     "data": {
      "text/plain": [
       "125"
      ]
     },
     "execution_count": 12,
     "metadata": {},
     "output_type": "execute_result"
    }
   ],
   "source": [
    "pmf_k.max_prob()"
   ]
  },
  {
   "cell_type": "markdown",
   "metadata": {},
   "source": [
    "But even though it is the most likely quantity, the probability that we get exactly 125 heads is only about 5%."
   ]
  },
  {
   "cell_type": "code",
   "execution_count": 13,
   "metadata": {},
   "outputs": [
    {
     "data": {
      "text/plain": [
       "0.05041221314731537"
      ]
     },
     "execution_count": 13,
     "metadata": {},
     "output_type": "execute_result"
    }
   ],
   "source": [
    "pmf_k[125]"
   ]
  },
  {
   "cell_type": "markdown",
   "metadata": {},
   "source": [
    "In MacKay's example, we got 140 heads, which is even less likely than 125:"
   ]
  },
  {
   "cell_type": "code",
   "execution_count": 14,
   "metadata": {},
   "outputs": [
    {
     "data": {
      "text/plain": [
       "0.008357181724917673"
      ]
     },
     "execution_count": 14,
     "metadata": {},
     "output_type": "execute_result"
    }
   ],
   "source": [
    "pmf_k[140]"
   ]
  },
  {
   "cell_type": "markdown",
   "metadata": {},
   "source": [
    "In the article MacKay quotes, the statistician says, \"If the coin were unbiased the chance of getting a result as extreme as that would be less than 7%.\"\n",
    "\n",
    "We can use the binomial distribution to check his math.  The following function takes a PMF and computes the total probability of quantities greater than or equal to `threshold`. "
   ]
  },
  {
   "cell_type": "code",
   "execution_count": 15,
   "metadata": {},
   "outputs": [],
   "source": [
    "def prob_ge(pmf, threshold):\n",
    "    \"\"\"Probability of quantities greater than threshold.\"\"\"\n",
    "    ge = (pmf.qs >= threshold)\n",
    "    total = pmf[ge].sum()\n",
    "    return total"
   ]
  },
  {
   "cell_type": "markdown",
   "metadata": {},
   "source": [
    "Here's the probability of getting 140 heads or more:"
   ]
  },
  {
   "cell_type": "code",
   "execution_count": 16,
   "metadata": {},
   "outputs": [
    {
     "data": {
      "text/plain": [
       "0.033210575620022706"
      ]
     },
     "execution_count": 16,
     "metadata": {},
     "output_type": "execute_result"
    }
   ],
   "source": [
    "prob_ge(pmf_k, 140)"
   ]
  },
  {
   "cell_type": "markdown",
   "metadata": {},
   "source": [
    "`Pmf` provides a method that does the same computation."
   ]
  },
  {
   "cell_type": "code",
   "execution_count": 17,
   "metadata": {},
   "outputs": [
    {
     "data": {
      "text/plain": [
       "0.033210575620022706"
      ]
     },
     "execution_count": 17,
     "metadata": {},
     "output_type": "execute_result"
    }
   ],
   "source": [
    "pmf_k.prob_ge(140)"
   ]
  },
  {
   "cell_type": "markdown",
   "metadata": {},
   "source": [
    "The result is about 3.3%, which is less than the quoted 7%.  The reason for the difference is that the statistician includes all outcomes \"as extreme as\" 140, which includes outcomes less than or equal to 110.\n",
    "\n",
    "To see where that comes from, recall that the expected number of heads is 125.  If we get 140, we've exceeded that expectation by 15.\n",
    "And if we get 110, we have come up short by 15.\n",
    "\n",
    "7% is the sum of both of these \"tails\", as shows in the following figure."
   ]
  },
  {
   "cell_type": "code",
   "execution_count": 18,
   "metadata": {
    "tags": [
     "hide-input"
    ]
   },
   "outputs": [
    {
     "data": {
      "image/png": "[encoded data removed]",
      "text/plain": [
       "<Figure size 432x288 with 1 Axes>"
      ]
     },
     "metadata": {
      "needs_background": "light"
     },
     "output_type": "display_data"
    }
   ],
   "source": [
    "import matplotlib.pyplot as plt\n",
    "\n",
    "def fill_below(pmf):\n",
    "    qs = pmf.index\n",
    "    ps = pmf.values\n",
    "    plt.fill_between(qs, ps, 0, color='C5', alpha=0.4)\n",
    "\n",
    "qs = pmf_k.index\n",
    "fill_below(pmf_k[qs>=140])\n",
    "fill_below(pmf_k[qs<=110])\n",
    "pmf_k.plot(label='n=250, p=0.5')\n",
    "\n",
    "decorate(xlabel='Number of heads (k)',\n",
    "         ylabel='PMF',\n",
    "         title='Binomial distribution')"
   ]
  },
  {
   "cell_type": "markdown",
   "metadata": {},
   "source": [
    "Here's how we compute the total probability of the left tail."
   ]
  },
  {
   "cell_type": "code",
   "execution_count": 19,
   "metadata": {},
   "outputs": [
    {
     "data": {
      "text/plain": [
       "0.033210575620022706"
      ]
     },
     "execution_count": 19,
     "metadata": {},
     "output_type": "execute_result"
    }
   ],
   "source": [
    "pmf_k.prob_le(110)"
   ]
  },
  {
   "cell_type": "markdown",
   "metadata": {},
   "source": [
    "The probability of outcomes less than or equal to 110 is also 3.3%,\n",
    "so the total probability of outcomes \"as extreme\" as 140 is 6.6%.\n",
    "\n",
    "The point of this calculation is that these extreme outcomes are unlikely if the coin is fair.\n",
    "\n",
    "That's interesting, but it doesn't answer MacKay's question.  Let's see if we can."
   ]
  },
  {
   "cell_type": "markdown",
   "metadata": {},
   "source": [
    "## Bayesian Estimation\n",
    "\n",
    "Any given coin has some probability of landing heads up when spun\n",
    "on edge; I'll call this probability `x`.\n",
    "It seems reasonable to believe that `x` depends\n",
    "on physical characteristics of the coin, like the distribution\n",
    "of weight.\n",
    "If a coin is perfectly balanced, we expect `x` to be close to 50%, but\n",
    "for a lopsided coin, `x` might be substantially different.\n",
    "We can use Bayes's theorem and the observed data to estimate `x`.\n",
    "\n",
    "For simplicity, I'll start with a uniform prior, which assumes that all values of `x` are equally likely.\n",
    "That might not be a reasonable assumption, so we'll come back and consider other priors later.\n",
    "\n",
    "We can make a uniform prior like this:"
   ]
  },
  {
   "cell_type": "code",
   "execution_count": 20,
   "metadata": {},
   "outputs": [],
   "source": [
    "hypos = np.linspace(0, 1, 101)\n",
    "prior = Pmf(1, hypos)"
   ]
  },
  {
   "cell_type": "markdown",
   "metadata": {},
   "source": [
    "`hypos` is an array of equally spaced values between 0 and 1.\n",
    "\n",
    "We can use the hypotheses to compute the likelihoods, like this:"
   ]
  },
  {
   "cell_type": "code",
   "execution_count": 21,
   "metadata": {},
   "outputs": [],
   "source": [
    "likelihood_heads = hypos\n",
    "likelihood_tails = 1 - hypos"
   ]
  },
  {
   "cell_type": "markdown",
   "metadata": {},
   "source": [
    "I'll put the likelihoods for heads and tails in a dictionary to make it easier to do the update."
   ]
  },
  {
   "cell_type": "code",
   "execution_count": 22,
   "metadata": {},
   "outputs": [],
   "source": [
    "likelihood = {\n",
    "    'H': likelihood_heads,\n",
    "    'T': likelihood_tails\n",
    "}"
   ]
  },
  {
   "cell_type": "markdown",
   "metadata": {},
   "source": [
    "To represent the data, I'll construct a string with `H` repeated 140 times and `T` repeated 110 times."
   ]
  },
  {
   "cell_type": "code",
   "execution_count": 23,
   "metadata": {},
   "outputs": [],
   "source": [
    "dataset = 'H' * 140 + 'T' * 110"
   ]
  },
  {
   "cell_type": "markdown",
   "metadata": {},
   "source": [
    "The following function does the update."
   ]
  },
  {
   "cell_type": "code",
   "execution_count": 24,
   "metadata": {},
   "outputs": [],
   "source": [
    "def update_euro(pmf, dataset):\n",
    "    \"\"\"Update pmf with a given sequence of H and T.\"\"\"\n",
    "    for data in dataset:\n",
    "        pmf *= likelihood[data]\n",
    "\n",
    "    pmf.normalize()"
   ]
  },
  {
   "cell_type": "markdown",
   "metadata": {},
   "source": [
    "The first argument is a `Pmf` that represents the prior.\n",
    "The second argument is a sequence of strings.\n",
    "Each time through the loop, we multiply `pmf` by the likelihood of one outcome, `H` for heads or `T` for tails.\n",
    "\n",
    "Notice that `normalize` is outside the loop, so the posterior distribution only gets normalized once, at the end.\n",
    "That's more efficient than normalizing it after each spin (although we'll see later that it can also cause problems with floating-point arithmetic).\n",
    "\n",
    "Here's how we use `update_euro`."
   ]
  },
  {
   "cell_type": "code",
   "execution_count": 25,
   "metadata": {},
   "outputs": [],
   "source": [
    "posterior = prior.copy()\n",
    "update_euro(posterior, dataset)"
   ]
  },
  {
   "cell_type": "markdown",
   "metadata": {},
   "source": [
    "And here's what the posterior looks like."
   ]
  },
  {
   "cell_type": "code",
   "execution_count": 23,
   "metadata": {
    "tags": [
     "hide-cell"
    ]
   },
   "outputs": [],
   "source": [
    "def decorate_euro(title):\n",
    "    decorate(xlabel='Proportion of heads (x)',\n",
    "             ylabel='Probability',\n",
    "             title=title)"
   ]
  },
  {
   "cell_type": "code",
   "execution_count": 24,
   "metadata": {
    "scrolled": true,
    "tags": [
     "hide-input"
    ]
   },
   "outputs": [
    {
     "data": {
      "image/png": "[encoded data removed]",
      "text/plain": [
       "<Figure size 432x288 with 1 Axes>"
      ]
     },
     "metadata": {
      "needs_background": "light"
     },
     "output_type": "display_data"
    }
   ],
   "source": [
    "posterior.plot(label='140 heads out of 250', color='C4')\n",
    "decorate_euro(title='Posterior distribution of x')"
   ]
  },
  {
   "cell_type": "markdown",
   "metadata": {},
   "source": [
    "This figure shows the posterior distribution of `x`, which is the proportion of heads for the coin we observed.\n",
    "\n",
    "The posterior distribution represents our beliefs about `x` after seeing the data.\n",
    "It indicates that values less than 0.4 and greater than 0.7 are unlikely; values between 0.5 and 0.6 are the most likely.\n",
    "\n",
    "In fact, the most likely value for `x` is 0.56 which is the proportion of heads in the dataset, `140/250`."
   ]
  },
  {
   "cell_type": "code",
   "execution_count": 25,
   "metadata": {
    "scrolled": true
   },
   "outputs": [
    {
     "data": {
      "text/plain": [
       "0.56"
      ]
     },
     "execution_count": 25,
     "metadata": {},
     "output_type": "execute_result"
    }
   ],
   "source": [
    "posterior.max_prob()"
   ]
  },
  {
   "cell_type": "markdown",
   "metadata": {},
   "source": [
    "## Triangle Prior\n",
    "\n",
    "So far we've been using a uniform prior:"
   ]
  },
  {
   "cell_type": "code",
   "execution_count": 26,
   "metadata": {
    "tags": [
     "remove-output"
    ]
   },
   "outputs": [
    {
     "data": {
      "text/plain": [
       "101"
      ]
     },
     "execution_count": 26,
     "metadata": {},
     "output_type": "execute_result"
    }
   ],
   "source": [
    "uniform = Pmf(1, hypos, name='uniform')\n",
    "uniform.normalize()"
   ]
  },
  {
   "cell_type": "markdown",
   "metadata": {},
   "source": [
    "But that might not be a reasonable choice based on what we know about coins.\n",
    "I can believe that if a coin is lopsided, `x` might deviate substantially from 0.5, but it seems unlikely that the Belgian Euro coin is so imbalanced that `x` is 0.1 or 0.9.\n",
    "\n",
    "It might be more reasonable to choose a prior that gives\n",
    "higher probability to values of `x` near 0.5 and lower probability\n",
    "to extreme values.\n",
    "\n",
    "As an example, let's try a triangle-shaped prior.\n",
    "Here's the code that constructs it:"
   ]
  },
  {
   "cell_type": "code",
   "execution_count": 27,
   "metadata": {},
   "outputs": [
    {
     "data": {
      "text/plain": [
       "2500"
      ]
     },
     "execution_count": 27,
     "metadata": {},
     "output_type": "execute_result"
    }
   ],
   "source": [
    "ramp_up = np.arange(50)\n",
    "ramp_down = np.arange(50, -1, -1)\n",
    "\n",
    "a = np.append(ramp_up, ramp_down)\n",
    "\n",
    "triangle = Pmf(a, hypos, name='triangle')\n",
    "triangle.normalize()"
   ]
  },
  {
   "cell_type": "markdown",
   "metadata": {},
   "source": [
    "`arange` returns a NumPy array, so we can use `np.append` to append `ramp_down` to the end of `ramp_up`.\n",
    "Then we use `a` and `hypos` to make a `Pmf`.\n",
    "\n",
    "The following figure shows the result, along with the uniform prior."
   ]
  },
  {
   "cell_type": "code",
   "execution_count": 28,
   "metadata": {
    "tags": [
     "hide-input"
    ]
   },
   "outputs": [
    {
     "data": {
      "image/png": "[encoded data removed]",
      "text/plain": [
       "<Figure size 432x288 with 1 Axes>"
      ]
     },
     "metadata": {
      "needs_background": "light"
     },
     "output_type": "display_data"
    }
   ],
   "source": [
    "uniform.plot()\n",
    "triangle.plot()\n",
    "decorate_euro(title='Uniform and triangle prior distributions')"
   ]
  },
  {
   "cell_type": "markdown",
   "metadata": {},
   "source": [
    "Now we can update both priors with the same data:\n"
   ]
  },
  {
   "cell_type": "code",
   "execution_count": 29,
   "metadata": {},
   "outputs": [],
   "source": [
    "update_euro(uniform, dataset)\n",
    "update_euro(triangle, dataset)"
   ]
  },
  {
   "cell_type": "markdown",
   "metadata": {},
   "source": [
    "Here are the posteriors."
   ]
  },
  {
   "cell_type": "code",
   "execution_count": 30,
   "metadata": {
    "tags": [
     "hide-input"
    ]
   },
   "outputs": [
    {
     "data": {
      "image/png": "[encoded data removed]",
      "text/plain": [
       "<Figure size 432x288 with 1 Axes>"
      ]
     },
     "metadata": {
      "needs_background": "light"
     },
     "output_type": "display_data"
    }
   ],
   "source": [
    "uniform.plot()\n",
    "triangle.plot()\n",
    "decorate_euro(title='Posterior distributions')"
   ]
  },
  {
   "cell_type": "markdown",
   "metadata": {},
   "source": [
    "The differences between the posterior distributions are barely visible, and so small they would hardly matter in practice.\n",
    "\n",
    "And that's good news.\n",
    "To see why, imagine two people who disagree angrily about which prior is better, uniform or triangle.\n",
    "Each of them has reasons for their preference, but neither of them can persuade the other to change their mind.\n",
    "\n",
    "But suppose they agree to use the data to update their beliefs.\n",
    "When they compare their posterior distributions, they find that there is almost nothing left to argue about.\n",
    "\n",
    "This is an example of **swamping the priors**: with enough\n",
    "data, people who start with different priors will tend to\n",
    "converge on the same posterior distribution.\n"
   ]
  },
  {
   "cell_type": "markdown",
   "metadata": {},
   "source": [
    "## The Binomial Likelihood Function\n",
    "\n",
    "So far we've been computing the updates one spin at a time, so for the Euro problem we have to do 250 updates.\n",
    "\n",
    "A more efficient alternative is to compute the likelihood of the entire dataset at once.\n",
    "For each hypothetical value of `x`, we have to compute the probability of getting 140 heads out of 250 spins.\n",
    "\n",
    "Well, we know how to do that; this is the question the binomial distribution answers.\n",
    "If the probability of heads is $p$, the probability of $k$ heads in $n$ spins is:\n",
    "\n",
    "$$\\binom{n}{k} p^k (1-p)^{n-k}$$\n",
    "\n",
    "And we can use SciPy to compute it.\n",
    "The following function takes a `Pmf` that represents a prior distribution and a tuple of integers that represent the data:"
   ]
  },
  {
   "cell_type": "code",
   "execution_count": 31,
   "metadata": {},
   "outputs": [],
   "source": [
    "from scipy.stats import binom\n",
    "\n",
    "def update_binomial(pmf, data):\n",
    "    \"\"\"Update pmf using the binomial distribution.\"\"\"\n",
    "    k, n = data\n",
    "    xs = pmf.qs\n",
    "    likelihood = binom.pmf(k, n, xs)\n",
    "    pmf *= likelihood\n",
    "    pmf.normalize()"
   ]
  },
  {
   "cell_type": "markdown",
   "metadata": {},
   "source": [
    "The data are represented with a tuple of values for `k` and `n`, rather than a long string of outcomes.\n",
    "Here's the update."
   ]
  },
  {
   "cell_type": "code",
   "execution_count": 32,
   "metadata": {},
   "outputs": [],
   "source": [
    "uniform2 = Pmf(1, hypos, name='uniform2')\n",
    "data = 140, 250\n",
    "update_binomial(uniform2, data)"
   ]
  },
  {
   "cell_type": "markdown",
   "metadata": {
    "tags": [
     "remove-cell"
    ]
   },
   "source": [
    "And here's what the posterior looks like."
   ]
  },
  {
   "cell_type": "code",
   "execution_count": 33,
   "metadata": {
    "tags": [
     "remove-cell"
    ]
   },
   "outputs": [
    {
     "data": {
      "image/png": "[encoded data removed]",
      "text/plain": [
       "<Figure size 432x288 with 1 Axes>"
      ]
     },
     "metadata": {
      "needs_background": "light"
     },
     "output_type": "display_data"
    }
   ],
   "source": [
    "uniform.plot()\n",
    "uniform2.plot()\n",
    "decorate_euro(title='Posterior distributions computed two ways')"
   ]
  },
  {
   "cell_type": "markdown",
   "metadata": {},
   "source": [
    "We can use `allclose` to confirm that result is the same as in the previous section except for a small floating-point round-off."
   ]
  },
  {
   "cell_type": "code",
   "execution_count": 34,
   "metadata": {},
   "outputs": [
    {
     "data": {
      "text/plain": [
       "True"
      ]
     },
     "execution_count": 34,
     "metadata": {},
     "output_type": "execute_result"
    }
   ],
   "source": [
    "np.allclose(uniform, uniform2)"
   ]
  },
  {
   "cell_type": "markdown",
   "metadata": {},
   "source": [
    "But this way of doing the computation is much more efficient."
   ]
  },
  {
   "cell_type": "markdown",
   "metadata": {},
   "source": [
    "## Bayesian Statistics\n",
    "\n",
    "You might have noticed similarities between the Euro problem and the 101 Bowls Problem in <<_101Bowls>>.\n",
    "The prior distributions are the same, the likelihoods are the same, and with the same data the results would be the same.\n",
    "But there are two differences.\n",
    "\n",
    "The first is the choice of the prior.\n",
    "With 101 bowls, the uniform prior is implied by the statement of the problem, which says that we choose one of the bowls at random with equal probability.\n",
    "\n",
    "In the Euro problem, the choice of the prior is subjective; that is, reasonable people could disagree, maybe because they have different information about coins or because they interpret the same information differently.\n",
    "\n",
    "Because the priors are subjective, the posteriors are subjective, too.\n",
    "And some people find that problematic."
   ]
  },
  {
   "cell_type": "markdown",
   "metadata": {},
   "source": [
    "The other difference is the nature of what we are estimating.\n",
    "In the 101 Bowls problem, we choose the bowl randomly, so it is uncontroversial to compute the probability of choosing each bowl.\n",
    "In the Euro problem, the proportion of heads is a physical property of a given coin.\n",
    "Under some interpretations of probability, that's a problem because physical properties are not considered random.\n",
    "\n",
    "As an example, consider the age of the universe.\n",
    "Currently, our best estimate is 13.80 billion years, but it might be off by 0.02 billion years in either direction (see [here](https://en.wikipedia.org/wiki/Age_of_the_universe)).\n",
    "\n",
    "Now suppose we would like to know the probability that the age of the universe is actually greater than 13.81 billion years.\n",
    "Under some interpretations of probability, we would not be able to answer that question.\n",
    "We would be required to say something like, \"The age of the universe is not a random quantity, so it has no probability of exceeding a particular value.\"\n",
    "\n",
    "Under the Bayesian interpretation of probability, it is meaningful and useful to treat physical quantities as if they were random and compute probabilities about them.\n",
    "\n",
    "In the Euro problem, the prior distribution represents what we believe about coins in general and the posterior distribution represents what we believe about a particular coin after seeing the data.\n",
    "So we can use the posterior distribution to compute probabilities about the coin and its proportion of heads."
   ]
  },
  {
   "cell_type": "markdown",
   "metadata": {},
   "source": [
    "The subjectivity of the prior and the interpretation of the posterior are key differences between using Bayes's Theorem and doing Bayesian statistics.\n",
    "\n",
    "Bayes's Theorem is a mathematical law of probability; no reasonable person objects to it.\n",
    "But Bayesian statistics is surprisingly controversial.\n",
    "Historically, many people have been bothered by its subjectivity and its use of probability for things that are not random.\n",
    "\n",
    "If you are interested in this history, I recommend Sharon Bertsch McGrayne's book, *[The Theory That Would Not Die](https://yalebooks.yale.edu/book/9780300188226/theory-would-not-die)*."
   ]
  },
  {
   "cell_type": "markdown",
   "metadata": {},
   "source": [
    "## Summary\n",
    "\n",
    "In this chapter I posed David MacKay's Euro problem and we started to solve it.\n",
    "Given the data, we computed the posterior distribution for `x`, the probability a Euro coin comes up heads.\n",
    "\n",
    "We tried two different priors, updated them with the same data, and found that the posteriors were nearly the same.\n",
    "This is good news, because it suggests that if two people start with different beliefs and see the same data, their beliefs tend to converge.\n",
    "\n",
    "This chapter introduces the binomial distribution, which we used to compute the posterior distribution more efficiently.\n",
    "And I discussed the differences between applying Bayes's Theorem, as in the 101 Bowls problem, and doing Bayesian statistics, as in the Euro problem.\n",
    "\n",
    "However, we still haven't answered MacKay's question: \"Do these data give evidence that the coin is biased rather than fair?\"\n",
    "I'm going to leave this question hanging a little longer; we'll come back to it in <<_Testing>>.\n",
    "\n",
    "In the next chapter, we'll solve problems related to counting, including trains, tanks, and rabbits.\n",
    "\n",
    "But first you might want to work on these exercises."
   ]
  },
  {
   "cell_type": "markdown",
   "metadata": {},
   "source": [
    "## Exercises\n"
   ]
  },
  {
   "cell_type": "markdown",
   "metadata": {},
   "source": [
    "**Exercise:** In Major League Baseball, most players have a batting average between 200 and 330, which means that their probability of getting a hit is between 0.2 and 0.33.\n",
    "\n",
    "Suppose a player appearing in their first game gets 3 hits out of 3 attempts.  What is the posterior distribution for their probability of getting a hit?"
   ]
  },
  {
   "cell_type": "markdown",
   "metadata": {
    "tags": [
     "hide-cell"
    ]
   },
   "source": [
    "For this exercise, I'll construct the prior distribution by starting with a uniform distribution and updating it with imaginary data until it has a shape that reflects my background knowledge of batting averages.\n",
    "\n",
    "Here's the uniform prior:"
   ]
  },
  {
   "cell_type": "code",
   "execution_count": 35,
   "metadata": {
    "tags": [
     "hide-cell"
    ]
   },
   "outputs": [],
   "source": [
    "hypos = np.linspace(0.1, 0.4, 101)\n",
    "prior = Pmf(1, hypos)"
   ]
  },
  {
   "cell_type": "markdown",
   "metadata": {
    "tags": [
     "hide-cell"
    ]
   },
   "source": [
    "And here is a dictionary of likelihoods, with `Y` for getting a hit and `N` for not getting a hit."
   ]
  },
  {
   "cell_type": "code",
   "execution_count": 36,
   "metadata": {
    "tags": [
     "hide-cell"
    ]
   },
   "outputs": [],
   "source": [
    "likelihood = {\n",
    "    'Y': hypos,\n",
    "    'N': 1-hypos\n",
    "}"
   ]
  },
  {
   "cell_type": "markdown",
   "metadata": {
    "tags": [
     "hide-cell"
    ]
   },
   "source": [
    "Here's a dataset that yields a reasonable prior distribution."
   ]
  },
  {
   "cell_type": "code",
   "execution_count": 37,
   "metadata": {
    "tags": [
     "hide-cell"
    ]
   },
   "outputs": [],
   "source": [
    "dataset = 'Y' * 25 + 'N' * 75"
   ]
  },
  {
   "cell_type": "markdown",
   "metadata": {
    "tags": [
     "hide-cell"
    ]
   },
   "source": [
    "And here's the update with the imaginary data."
   ]
  },
  {
   "cell_type": "code",
   "execution_count": 38,
   "metadata": {
    "tags": [
     "remove-output",
     "hide-cell"
    ]
   },
   "outputs": [
    {
     "data": {
      "text/plain": [
       "1.3596964206970507e-23"
      ]
     },
     "execution_count": 38,
     "metadata": {},
     "output_type": "execute_result"
    }
   ],
   "source": [
    "for data in dataset:\n",
    "    prior *= likelihood[data]\n",
    "\n",
    "prior.normalize()"
   ]
  },
  {
   "cell_type": "markdown",
   "metadata": {
    "tags": [
     "hide-cell"
    ]
   },
   "source": [
    "Finally, here's what the prior looks like."
   ]
  },
  {
   "cell_type": "code",
   "execution_count": 39,
   "metadata": {
    "scrolled": true,
    "tags": [
     "hide-cell"
    ]
   },
   "outputs": [
    {
     "data": {
      "image/png": "[encoded data removed]",
      "text/plain": [
       "<Figure size 432x288 with 1 Axes>"
      ]
     },
     "metadata": {
      "needs_background": "light"
     },
     "output_type": "display_data"
    }
   ],
   "source": [
    "prior.plot(label='prior')\n",
    "decorate(xlabel='Probability of getting a hit',\n",
    "         ylabel='PMF')"
   ]
  },
  {
   "cell_type": "markdown",
   "metadata": {
    "tags": [
     "hide-cell"
    ]
   },
   "source": [
    "This distribution indicates that most players have a batting average near 250, with only a few players below 175 or above 350.  I'm not sure how accurately this prior reflects the distribution of batting averages in Major League Baseball, but it is good enough for this exercise.\n",
    "\n",
    "Now update this distribution with the data and plot the posterior.  What is the most likely quantity in the posterior distribution?"
   ]
  },
  {
   "cell_type": "code",
   "execution_count": 40,
   "metadata": {},
   "outputs": [
    {
     "data": {
      "text/plain": [
       "0.017944179687707326"
      ]
     },
     "execution_count": 40,
     "metadata": {},
     "output_type": "execute_result"
    }
   ],
   "source": [
    "# Solution\n",
    "\n",
    "posterior = prior.copy()\n",
    "\n",
    "for data in 'YYY':\n",
    "    posterior *= likelihood[data]\n",
    "\n",
    "posterior.normalize()"
   ]
  },
  {
   "cell_type": "code",
   "execution_count": 41,
   "metadata": {
    "scrolled": true
   },
   "outputs": [
    {
     "data": {
      "image/png": "[encoded data removed]",
      "text/plain": [
       "<Figure size 432x288 with 1 Axes>"
      ]
     },
     "metadata": {
      "needs_background": "light"
     },
     "output_type": "display_data"
    }
   ],
   "source": [
    "# Solution\n",
    "\n",
    "prior.plot(label='prior')\n",
    "posterior.plot(label='posterior ')\n",
    "decorate(xlabel='Probability of getting a hit',\n",
    "         ylabel='PMF')"
   ]
  },
  {
   "cell_type": "code",
   "execution_count": 42,
   "metadata": {},
   "outputs": [
    {
     "data": {
      "text/plain": [
       "0.25"
      ]
     },
     "execution_count": 42,
     "metadata": {},
     "output_type": "execute_result"
    }
   ],
   "source": [
    "# Solution\n",
    "\n",
    "prior.max_prob()"
   ]
  },
  {
   "cell_type": "code",
   "execution_count": 43,
   "metadata": {},
   "outputs": [
    {
     "data": {
      "text/plain": [
       "0.271"
      ]
     },
     "execution_count": 43,
     "metadata": {},
     "output_type": "execute_result"
    }
   ],
   "source": [
    "# Solution\n",
    "\n",
    "posterior.max_prob()"
   ]
  },
  {
   "cell_type": "markdown",
   "metadata": {},
   "source": [
    "**Exercise:** Whenever you survey people about sensitive issues, you have to deal with [social desirability bias](https://en.wikipedia.org/wiki/Social_desirability_bias), which is the tendency of people to adjust their answers to show themselves in the most positive light.\n",
    "One way to improve the accuracy of the results is [randomized response](https://en.wikipedia.org/wiki/Randomized_response).\n",
    "\n",
    "As an example, suppose want to know how many people cheat on their taxes.  \n",
    "If you ask them directly, it is likely that some of the cheaters will lie.\n",
    "You can get a more accurate estimate if you ask them indirectly, like this: Ask each person to flip a coin and, without revealing the outcome,\n",
    "\n",
    "* If they get heads, they report YES.\n",
    "\n",
    "* If they get tails, they honestly answer the question \"Do you cheat on your taxes?\"\n",
    "\n",
    "If someone says YES, we don't know whether they actually cheat on their taxes; they might have flipped yes.\n",
    "Knowing this, people might be more willing to answer honestly.\n",
    "\n",
    "Suppose you survey 100 people this way and get 80 YESes and 20 NOs.  Based on this data, what is the posterior distribution for the fraction of people who cheat on their taxes?  What is the most likely quantity in the posterior distribution?"
   ]
  },
  {
   "cell_type": "code",
   "execution_count": 44,
   "metadata": {},
   "outputs": [],
   "source": [
    "# Solution\n",
    "\n",
    "# I'll use a uniform distribution again, although there might\n",
    "# be background information we could use to choose a more\n",
    "# specific prior.\n",
    "\n",
    "hypos = np.linspace(0, 1, 101)\n",
    "prior = Pmf(1, hypos)"
   ]
  },
  {
   "cell_type": "code",
   "execution_count": 45,
   "metadata": {},
   "outputs": [],
   "source": [
    "# Solution\n",
    "\n",
    "# If the actual fraction of cheaters is `x`, the number of\n",
    "# YESes is (0.5 + x/2), and the number of NOs is (1-x)/2\n",
    "\n",
    "likelihood = {\n",
    "    'Y': 0.5 + hypos/2,\n",
    "    'N': (1-hypos)/2\n",
    "}"
   ]
  },
  {
   "cell_type": "code",
   "execution_count": 46,
   "metadata": {},
   "outputs": [
    {
     "data": {
      "text/plain": [
       "3.6945139133967024e-21"
      ]
     },
     "execution_count": 46,
     "metadata": {},
     "output_type": "execute_result"
    }
   ],
   "source": [
    "# Solution\n",
    "\n",
    "dataset = 'Y' * 80 + 'N' * 20\n",
    "\n",
    "posterior = prior.copy()\n",
    "\n",
    "for data in dataset:\n",
    "    posterior *= likelihood[data]\n",
    "\n",
    "posterior.normalize()"
   ]
  },
  {
   "cell_type": "code",
   "execution_count": 47,
   "metadata": {
    "scrolled": true
   },
   "outputs": [
    {
     "data": {
      "image/png": "[encoded data removed]",
      "text/plain": [
       "<Figure size 432x288 with 1 Axes>"
      ]
     },
     "metadata": {
      "needs_background": "light"
     },
     "output_type": "display_data"
    }
   ],
   "source": [
    "# Solution\n",
    "\n",
    "posterior.plot(label='80 YES, 20 NO')\n",
    "decorate(xlabel='Proportion of cheaters',\n",
    "         ylabel='PMF')"
   ]
  },
  {
   "cell_type": "code",
   "execution_count": 48,
   "metadata": {},
   "outputs": [
    {
     "data": {
      "text/plain": [
       "0.6"
      ]
     },
     "execution_count": 48,
     "metadata": {},
     "output_type": "execute_result"
    }
   ],
   "source": [
    "# Solution\n",
    "\n",
    "posterior.idxmax()"
   ]
  },
  {
   "cell_type": "markdown",
   "metadata": {},
   "source": [
    "**Exercise:** Suppose you want to test whether a coin is fair, but you don't want to spin it hundreds of times.\n",
    "So you make a machine that spins the coin automatically and uses computer vision to determine the outcome.\n",
    "\n",
    "However, you discover that the machine is not always accurate.  Specifically, suppose the probability is `y=0.2` that an actual heads is reported as tails, or actual tails reported as heads.\n",
    "\n",
    "If we spin a coin 250 times and the machine reports 140 heads, what is the posterior distribution of `x`?\n",
    "What happens as you vary the value of `y`?"
   ]
  },
  {
   "cell_type": "code",
   "execution_count": 49,
   "metadata": {},
   "outputs": [],
   "source": [
    "# Solution\n",
    "\n",
    "def update_unreliable(pmf, dataset, y):\n",
    "    \n",
    "    likelihood = {\n",
    "        'H': (1-y) * hypos + y * (1-hypos),\n",
    "        'T': y * hypos + (1-y) * (1-hypos)\n",
    "    }\n",
    "    for data in dataset:\n",
    "        pmf *= likelihood[data]\n",
    "\n",
    "    pmf.normalize()"
   ]
  },
  {
   "cell_type": "code",
   "execution_count": 50,
   "metadata": {},
   "outputs": [],
   "source": [
    "# Solution\n",
    "\n",
    "hypos = np.linspace(0, 1, 101)\n",
    "prior = Pmf(1, hypos)\n",
    "dataset = 'H' * 140 + 'T' * 110\n",
    "\n",
    "posterior00 = prior.copy()\n",
    "update_unreliable(posterior00, dataset, 0.0)\n",
    "\n",
    "posterior02 = prior.copy()\n",
    "update_unreliable(posterior02, dataset, 0.2)\n",
    "\n",
    "posterior04 = prior.copy()\n",
    "update_unreliable(posterior04, dataset, 0.4)"
   ]
  },
  {
   "cell_type": "code",
   "execution_count": 51,
   "metadata": {
    "scrolled": true
   },
   "outputs": [
    {
     "data": {
      "image/png": "[encoded data removed]",
      "text/plain": [
       "<Figure size 432x288 with 1 Axes>"
      ]
     },
     "metadata": {
      "needs_background": "light"
     },
     "output_type": "display_data"
    }
   ],
   "source": [
    "# Solution\n",
    "\n",
    "posterior00.plot(label='y = 0.0')\n",
    "posterior02.plot(label='y = 0.2')\n",
    "posterior04.plot(label='y = 0.4')\n",
    "decorate(xlabel='Proportion of heads',\n",
    "         ylabel='PMF')"
   ]
  },
  {
   "cell_type": "code",
   "execution_count": 52,
   "metadata": {},
   "outputs": [
    {
     "data": {
      "text/plain": [
       "(0.56, 0.6, 0.8)"
      ]
     },
     "execution_count": 52,
     "metadata": {},
     "output_type": "execute_result"
    }
   ],
   "source": [
    "# Solution\n",
    "\n",
    "posterior00.idxmax(), posterior02.idxmax(), posterior04.idxmax()"
   ]
  },
  {
   "cell_type": "markdown",
   "metadata": {},
   "source": [
    "**Exercise:** In preparation for an alien invasion, the Earth Defense League (EDL) has been working on new missiles to shoot down space invaders.  Of course, some missile designs are better than others; let's assume that each design has some probability of hitting an alien ship, `x`.\n",
    "\n",
    "Based on previous tests, the distribution of `x` in the population of designs is approximately uniform between 0.1 and 0.4.\n",
    "\n",
    "Now suppose the new ultra-secret Alien Blaster 9000 is being tested.  In a press conference, an EDL general reports that the new design has been tested twice, taking two shots during each test.  The results of the test are confidential, so the general won't say how many targets were hit, but they report: \"The same number of targets were hit in the two tests, so we have reason to think this new design is consistent.\"\n",
    "\n",
    "Is this data good or bad; that is, does it increase or decrease your estimate of `x` for the Alien Blaster 9000?"
   ]
  },
  {
   "cell_type": "markdown",
   "metadata": {
    "tags": [
     "hide-cell"
    ]
   },
   "source": [
    "Hint: If the probability of hitting each target is $x$, the probability of hitting one target in both tests\n",
    "is $\\left[2x(1-x)\\right]^2$."
   ]
  },
  {
   "cell_type": "code",
   "execution_count": 53,
   "metadata": {},
   "outputs": [],
   "source": [
    "# Solution\n",
    "\n",
    "hypos = np.linspace(0.1, 0.4, 101)\n",
    "prior = Pmf(1, hypos)"
   ]
  },
  {
   "cell_type": "code",
   "execution_count": 54,
   "metadata": {},
   "outputs": [],
   "source": [
    "# Solution\n",
    "\n",
    "# Here's a specific version for n=2 shots per test\n",
    "\n",
    "x = hypos\n",
    "likes = [(1-x)**4, (2*x*(1-x))**2, x**4]\n",
    "likelihood = np.sum(likes, axis=0)"
   ]
  },
  {
   "cell_type": "code",
   "execution_count": 55,
   "metadata": {},
   "outputs": [],
   "source": [
    "# Solution\n",
    "\n",
    "# Here's a more general version for any n shots per test\n",
    "\n",
    "from scipy.stats import binom\n",
    "\n",
    "n = 2\n",
    "likes2 = [binom.pmf(k, n, x)**2 for k in range(n+1)]\n",
    "likelihood2 = np.sum(likes2, axis=0)"
   ]
  },
  {
   "cell_type": "code",
   "execution_count": 56,
   "metadata": {},
   "outputs": [
    {
     "data": {
      "image/png": "[encoded data removed]",
      "text/plain": [
       "<Figure size 432x288 with 1 Axes>"
      ]
     },
     "metadata": {
      "needs_background": "light"
     },
     "output_type": "display_data"
    }
   ],
   "source": [
    "# Solution\n",
    "\n",
    "# Here are the likelihoods, computed both ways\n",
    "\n",
    "import matplotlib.pyplot as plt\n",
    "\n",
    "plt.plot(x, likelihood, label='special case')\n",
    "plt.plot(x, likelihood2, label='general formula')\n",
    "decorate(xlabel='Probability of hitting the target',\n",
    "         ylabel='Likelihood',\n",
    "         title='Likelihood of getting the same result')"
   ]
  },
  {
   "cell_type": "code",
   "execution_count": 57,
   "metadata": {},
   "outputs": [
    {
     "data": {
      "text/plain": [
       "49.129627998379995"
      ]
     },
     "execution_count": 57,
     "metadata": {},
     "output_type": "execute_result"
    }
   ],
   "source": [
    "# Solution\n",
    "\n",
    "posterior = prior * likelihood\n",
    "posterior.normalize()"
   ]
  },
  {
   "cell_type": "code",
   "execution_count": 58,
   "metadata": {},
   "outputs": [
    {
     "data": {
      "image/png": "[encoded data removed]",
      "text/plain": [
       "<Figure size 432x288 with 1 Axes>"
      ]
     },
     "metadata": {
      "needs_background": "light"
     },
     "output_type": "display_data"
    }
   ],
   "source": [
    "# Solution\n",
    "\n",
    "posterior.plot(label='Two tests, two shots, same outcome',\n",
    "               color='C4')\n",
    "decorate(xlabel='Probability of hitting the target',\n",
    "         ylabel='PMF',\n",
    "         title='Posterior distribution',\n",
    "         ylim=[0, 0.015])"
   ]
  },
  {
   "cell_type": "code",
   "execution_count": 59,
   "metadata": {},
   "outputs": [],
   "source": [
    "# Solution\n",
    "\n",
    "# Getting the same result in both tests is more likely for \n",
    "# extreme values of `x` and least likely when `x=0.5`.\n",
    "\n",
    "# In this example, the prior indicates that `x` is less than 0.5,\n",
    "# and the update gives more weight to extreme values.\n",
    "\n",
    "# So the dataset makes lower values of `x` more likely."
   ]
  },
  {
   "cell_type": "code",
   "execution_count": null,
   "metadata": {},
   "outputs": [],
   "source": []
  }
 ],
 "metadata": {
  "celltoolbar": "Tags",
  "kernelspec": {
   "display_name": "Python 3",
   "language": "python",
   "name": "python3"
  },
  "language_info": {
   "codemirror_mode": {
    "name": "ipython",
    "version": 3
   },
   "file_extension": ".py",
   "mimetype": "text/x-python",
   "name": "python",
   "nbconvert_exporter": "python",
   "pygments_lexer": "ipython3",
   "version": "3.8.6"
  }
 },
 "nbformat": 4,
 "nbformat_minor": 2
}
